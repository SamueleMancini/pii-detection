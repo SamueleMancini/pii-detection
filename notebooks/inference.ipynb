{
 "cells": [
  {
   "cell_type": "code",
   "execution_count": 1,
   "metadata": {},
   "outputs": [
    {
     "name": "stderr",
     "output_type": "stream",
     "text": [
      "/Users/andreafabbricatore/Desktop/mac_bocconi/MAI/year 1/semester 2/NLP/nlp-project/.venv/lib/python3.12/site-packages/tqdm/auto.py:21: TqdmWarning: IProgress not found. Please update jupyter and ipywidgets. See https://ipywidgets.readthedocs.io/en/stable/user_install.html\n",
      "  from .autonotebook import tqdm as notebook_tqdm\n"
     ]
    }
   ],
   "source": [
    "from transformers import (\n",
    "    AutoModelForTokenClassification,\n",
    "    AutoTokenizer,\n",
    "    DataCollatorForTokenClassification,\n",
    ")\n",
    "from torch.utils.data import DataLoader\n",
    "import matplotlib.pyplot as plt\n",
    "import seaborn as sns\n",
    "import numpy as np\n",
    "import torch\n",
    "from tqdm import tqdm\n",
    "from seqeval.metrics import classification_report\n",
    "from nlp_project.models import CubeBert\n",
    "from nlp_project.data import json_to_Dataset, json_to_Dataset_adv, json_to_Dataset_ensemble\n",
    "from nlp_project.utils import compute_metrics, compute_ensemble_metrics\n",
    "\n",
    "all_labels = [\n",
    "    \"B-STREET\",\n",
    "    \"B-CITY\",\n",
    "    \"I-DATE\",\n",
    "    \"B-PASS\",\n",
    "    \"I-CITY\",\n",
    "    \"B-TIME\",\n",
    "    \"B-EMAIL\",\n",
    "    \"I-DRIVERLICENSE\",\n",
    "    \"I-POSTCODE\",\n",
    "    \"I-BOD\",\n",
    "    \"B-USERNAME\",\n",
    "    \"B-BOD\",\n",
    "    \"B-COUNTRY\",\n",
    "    \"B-SECADDRESS\",\n",
    "    \"B-IDCARD\",\n",
    "    \"I-SOCIALNUMBER\",\n",
    "    \"I-PASSPORT\",\n",
    "    \"B-IP\",\n",
    "    \"O\",\n",
    "    \"B-TEL\",\n",
    "    \"B-SOCIALNUMBER\",\n",
    "    \"I-TIME\",\n",
    "    \"B-BUILDING\",\n",
    "    \"B-PASSPORT\",\n",
    "    \"I-TITLE\",\n",
    "    \"I-SEX\",\n",
    "    \"I-STREET\",\n",
    "    \"B-STATE\",\n",
    "    \"I-STATE\",\n",
    "    \"B-TITLE\",\n",
    "    \"B-DATE\",\n",
    "    \"B-GEOCOORD\",\n",
    "    \"I-IDCARD\",\n",
    "    \"I-TEL\",\n",
    "    \"B-POSTCODE\",\n",
    "    \"B-DRIVERLICENSE\",\n",
    "    \"I-GEOCOORD\",\n",
    "    \"I-COUNTRY\",\n",
    "    \"I-EMAIL\",\n",
    "    \"I-PASS\",\n",
    "    \"B-SEX\",\n",
    "    \"I-USERNAME\",\n",
    "    \"I-BUILDING\",\n",
    "    \"I-IP\",\n",
    "    \"I-SECADDRESS\",\n",
    "    \"B-CARDISSUER\",\n",
    "    \"I-CARDISSUER\",\n",
    "]\n",
    "\n",
    "id2label = {i: l for i, l in enumerate(all_labels)}\n",
    "label2id = {v: k for k, v in id2label.items()}\n",
    "n_labels = len(all_labels)"
   ]
  },
  {
   "cell_type": "code",
   "execution_count": 41,
   "metadata": {},
   "outputs": [],
   "source": [
    "def compute_all_metrics(model, tokenizer, dataset, batch_size=8):\n",
    "    model = model.to(\"cuda\")\n",
    "    model.eval()\n",
    "\n",
    "    # Drop non-numeric columns\n",
    "    dataset = dataset.remove_columns([\"source_text\", \"tokens\"])\n",
    "\n",
    "    dataloader = DataLoader(\n",
    "        dataset,\n",
    "        batch_size=batch_size,\n",
    "        collate_fn=DataCollatorForTokenClassification(\n",
    "            tokenizer, return_tensors=\"pt\"\n",
    "        ),\n",
    "    )\n",
    "\n",
    "    all_predictions = []\n",
    "    all_labels = []\n",
    "    all_predictions_text = []\n",
    "    all_labels_text = []\n",
    "\n",
    "    with torch.no_grad():\n",
    "        for batch in tqdm(dataloader, desc=\"Evaluating\"):\n",
    "            input_ids = batch[\"input_ids\"].to(\"cuda\")\n",
    "            attention_mask = batch[\"attention_mask\"].to(\"cuda\")\n",
    "            labels = batch[\"labels\"]\n",
    "\n",
    "            outputs = model(input_ids=input_ids, attention_mask=attention_mask)\n",
    "            logits = outputs.logits\n",
    "            preds = torch.argmax(logits, dim=-1).cpu().numpy()\n",
    "            labels = labels.numpy()\n",
    "\n",
    "            all_predictions.extend(preds)\n",
    "            all_labels.extend(labels)\n",
    "\n",
    "            for pred_seq, label_seq in zip(preds, labels):\n",
    "                pred_labels = []\n",
    "                true_labels = []\n",
    "                for p, l in zip(pred_seq, label_seq):\n",
    "                    if l == -100:\n",
    "                        continue\n",
    "                    pred_labels.append(id2label[p])\n",
    "                    true_labels.append(id2label[l])\n",
    "                all_predictions_text.append(pred_labels)\n",
    "                all_labels_text.append(true_labels)\n",
    "\n",
    "    print(classification_report(all_labels_text, all_predictions_text))\n",
    "\n",
    "    return compute_metrics(all_predictions, all_labels)"
   ]
  },
  {
   "cell_type": "code",
   "execution_count": null,
   "metadata": {},
   "outputs": [],
   "source": [
    "d_test = [i for i in json_to_Dataset(\"data/distilbert_test.json\")]\n",
    "d_test_adv = [i for i in json_to_Dataset_adv(\"data/distilbert_test_adv.json\")]\n",
    "a_test = [i for i in json_to_Dataset(\"data/albert_test.json\")]\n",
    "a_test_adv = [i for i in json_to_Dataset_adv(\"data/albert_test_adv.json\")]"
   ]
  },
  {
   "cell_type": "code",
   "execution_count": 20,
   "metadata": {},
   "outputs": [],
   "source": [
    "d1_model = AutoModelForTokenClassification.from_pretrained(\n",
    "    \"models/distilbert1\"\n",
    ")\n",
    "d1_tokenizer = AutoTokenizer.from_pretrained(\"models/distilbert1\")\n",
    "\n",
    "a1_model = AutoModelForTokenClassification.from_pretrained(\n",
    "    \"models/albert1\"\n",
    ")\n",
    "a1_tokenizer = AutoTokenizer.from_pretrained(\"models/albert1\")\n",
    "\n",
    "d1_model_adv = AutoModelForTokenClassification.from_pretrained(\n",
    "    \"models/distilbert1_adv\"\n",
    ")\n",
    "d1_tokenizer_adv = AutoTokenizer.from_pretrained(\"models/distilbert1_adv\")\n",
    "\n",
    "a1_model_adv = AutoModelForTokenClassification.from_pretrained(\n",
    "    \"models/albert1_adv\"\n",
    ")\n",
    "a1_tokenizer_adv = AutoTokenizer.from_pretrained(\"models/albert1_adv\")"
   ]
  },
  {
   "cell_type": "markdown",
   "metadata": {},
   "source": [
    "# Inference on standard dataset"
   ]
  },
  {
   "cell_type": "code",
   "execution_count": null,
   "metadata": {},
   "outputs": [],
   "source": [
    "res = compute_all_metrics(d1_model, d_test)\n",
    "res"
   ]
  },
  {
   "cell_type": "code",
   "execution_count": 16,
   "metadata": {},
   "outputs": [],
   "source": [
    "conf = np.log(res[\"confusion_matrix\"] + 0.01)"
   ]
  },
  {
   "cell_type": "code",
   "execution_count": null,
   "metadata": {},
   "outputs": [],
   "source": [
    "plt.figure(figsize=(10, 7))\n",
    "sns.heatmap(conf, cmap=\"Reds\")\n",
    "plt.xlabel(\"Predicted Labels\")\n",
    "plt.ylabel(\"True Labels\")\n",
    "plt.title(\"Confusion Matrix Distilbert Finetuned 1\")\n",
    "plt.show()"
   ]
  },
  {
   "cell_type": "code",
   "execution_count": null,
   "metadata": {},
   "outputs": [],
   "source": [
    "res = compute_all_metrics(a1_model, a_test)\n",
    "res"
   ]
  },
  {
   "cell_type": "code",
   "execution_count": null,
   "metadata": {},
   "outputs": [],
   "source": [
    "conf = np.log(res[\"confusion_matrix\"] + 0.01)"
   ]
  },
  {
   "cell_type": "code",
   "execution_count": null,
   "metadata": {},
   "outputs": [],
   "source": [
    "plt.figure(figsize=(10, 7))\n",
    "sns.heatmap(conf, cmap=\"Reds\")\n",
    "plt.xlabel(\"Predicted Labels\")\n",
    "plt.ylabel(\"True Labels\")\n",
    "plt.title(\"Confusion Matrix Albert Finetuned 1\")\n",
    "plt.show()"
   ]
  },
  {
   "cell_type": "markdown",
   "metadata": {},
   "source": [
    "# Inference on adversarial dataset"
   ]
  },
  {
   "cell_type": "code",
   "execution_count": null,
   "metadata": {},
   "outputs": [],
   "source": [
    "res = compute_all_metrics(d1_model, d_test_adv)\n",
    "res"
   ]
  },
  {
   "cell_type": "code",
   "execution_count": null,
   "metadata": {},
   "outputs": [],
   "source": [
    "conf = np.log(res[\"confusion_matrix\"] + 0.01)"
   ]
  },
  {
   "cell_type": "code",
   "execution_count": null,
   "metadata": {},
   "outputs": [],
   "source": [
    "plt.figure(figsize=(10, 7))\n",
    "sns.heatmap(conf, cmap=\"Reds\")\n",
    "plt.xlabel(\"Predicted Labels\")\n",
    "plt.ylabel(\"True Labels\")\n",
    "plt.title(\"Confusion Matrix Distilbert Finetuned 1\")\n",
    "plt.show()"
   ]
  },
  {
   "cell_type": "code",
   "execution_count": null,
   "metadata": {},
   "outputs": [],
   "source": [
    "res = compute_all_metrics(a1_model, a_test_adv)\n",
    "res"
   ]
  },
  {
   "cell_type": "code",
   "execution_count": null,
   "metadata": {},
   "outputs": [],
   "source": [
    "conf = np.log(res[\"confusion_matrix\"] + 0.01)"
   ]
  },
  {
   "cell_type": "code",
   "execution_count": null,
   "metadata": {},
   "outputs": [],
   "source": [
    "plt.figure(figsize=(10, 7))\n",
    "sns.heatmap(conf, cmap=\"Reds\")\n",
    "plt.xlabel(\"Predicted Labels\")\n",
    "plt.ylabel(\"True Labels\")\n",
    "plt.title(\"Confusion Matrix Albert Finetuned 1\")\n",
    "plt.show()"
   ]
  },
  {
   "cell_type": "markdown",
   "metadata": {},
   "source": [
    "# Inference on adversarial dataset (post adv fine tuning)"
   ]
  },
  {
   "cell_type": "code",
   "execution_count": null,
   "metadata": {},
   "outputs": [],
   "source": [
    "res = compute_all_metrics(d1_model_adv, d_test_adv)\n",
    "res"
   ]
  },
  {
   "cell_type": "code",
   "execution_count": null,
   "metadata": {},
   "outputs": [],
   "source": [
    "conf = np.log(res[\"confusion_matrix\"] + 0.01)"
   ]
  },
  {
   "cell_type": "code",
   "execution_count": null,
   "metadata": {},
   "outputs": [],
   "source": [
    "plt.figure(figsize=(10, 7))\n",
    "sns.heatmap(conf, cmap=\"Reds\")\n",
    "plt.xlabel(\"Predicted Labels\")\n",
    "plt.ylabel(\"True Labels\")\n",
    "plt.title(\"Confusion Matrix Distilbert 1 Adversarial\")\n",
    "plt.show()"
   ]
  },
  {
   "cell_type": "code",
   "execution_count": null,
   "metadata": {},
   "outputs": [],
   "source": [
    "res = compute_all_metrics(a1_model_adv, a_test_adv)\n",
    "res"
   ]
  },
  {
   "cell_type": "code",
   "execution_count": null,
   "metadata": {},
   "outputs": [],
   "source": [
    "conf = np.log(res[\"confusion_matrix\"] + 0.01)"
   ]
  },
  {
   "cell_type": "code",
   "execution_count": null,
   "metadata": {},
   "outputs": [],
   "source": [
    "plt.figure(figsize=(10, 7))\n",
    "sns.heatmap(conf, cmap=\"Reds\")\n",
    "plt.xlabel(\"Predicted Labels\")\n",
    "plt.ylabel(\"True Labels\")\n",
    "plt.title(\"Confusion Matrix Albert 1 Adversarial\")\n",
    "plt.show()"
   ]
  },
  {
   "cell_type": "markdown",
   "metadata": {},
   "source": [
    "# Ensemble"
   ]
  },
  {
   "cell_type": "code",
   "execution_count": null,
   "metadata": {},
   "outputs": [],
   "source": [
    "model = CubeBert(distilbert_tuned=\"models/distilbert1\", albert_tuned=\"models/albert1\")\n",
    "state_dict = torch.load(\"model_state.pth\")\n",
    "model.load_state_dict(state_dict)\n",
    "model.eval()"
   ]
  },
  {
   "cell_type": "code",
   "execution_count": 10,
   "metadata": {},
   "outputs": [],
   "source": [
    "data = [i for i in json_to_Dataset_ensemble(\"data/ensemble_test.json\")]"
   ]
  },
  {
   "cell_type": "code",
   "execution_count": null,
   "metadata": {},
   "outputs": [],
   "source": [
    "res = compute_ensemble_metrics(model, data)\n",
    "print(res)"
   ]
  },
  {
   "cell_type": "code",
   "execution_count": 13,
   "metadata": {},
   "outputs": [],
   "source": [
    "conf = np.log(res[\"confusion_matrix\"] + 0.01)"
   ]
  },
  {
   "cell_type": "code",
   "execution_count": null,
   "metadata": {},
   "outputs": [],
   "source": [
    "plt.figure(figsize=(10, 7))\n",
    "sns.heatmap(conf, cmap=\"Reds\")\n",
    "plt.xlabel(\"Predicted Labels\")\n",
    "plt.ylabel(\"True Labels\")\n",
    "plt.title(\"Confusion Matrix CubeBERT\")\n",
    "plt.show()"
   ]
  }
 ],
 "metadata": {
  "kernelspec": {
   "display_name": ".venv",
   "language": "python",
   "name": "python3"
  },
  "language_info": {
   "codemirror_mode": {
    "name": "ipython",
    "version": 3
   },
   "file_extension": ".py",
   "mimetype": "text/x-python",
   "name": "python",
   "nbconvert_exporter": "python",
   "pygments_lexer": "ipython3",
   "version": "3.12.0"
  }
 },
 "nbformat": 4,
 "nbformat_minor": 2
}
