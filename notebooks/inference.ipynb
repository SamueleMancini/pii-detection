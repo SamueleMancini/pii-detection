{
 "cells": [
  {
   "cell_type": "code",
   "execution_count": 40,
   "metadata": {},
   "outputs": [],
   "source": [
    "import auxiliary as aux\n",
    "from transformers import AutoModelForTokenClassification, TrainingArguments, Trainer, AutoTokenizer, DataCollatorForTokenClassification\n",
    "from torch.utils.data import DataLoader\n",
    "import matplotlib.pyplot as plt\n",
    "import seaborn as sns\n",
    "import numpy as np\n",
    "import torch\n",
    "from tqdm import tqdm\n",
    "from seqeval.metrics import classification_report\n",
    "from kingbert import KingBert\n",
    "\n",
    "all_labels = [\n",
    "    'B-STREET', 'B-CITY', 'I-DATE', 'B-PASS', 'I-CITY', 'B-TIME', 'B-EMAIL', 'I-DRIVERLICENSE',\n",
    "    'I-POSTCODE', 'I-BOD', 'B-USERNAME', 'B-BOD', 'B-COUNTRY', 'B-SECADDRESS', 'B-IDCARD',\n",
    "    'I-SOCIALNUMBER', 'I-PASSPORT', 'B-IP', 'O', 'B-TEL', 'B-SOCIALNUMBER', 'I-TIME', 'B-BUILDING',\n",
    "    'B-PASSPORT', 'I-TITLE', 'I-SEX', 'I-STREET', 'B-STATE', 'I-STATE', 'B-TITLE', 'B-DATE',\n",
    "    'B-GEOCOORD', 'I-IDCARD', 'I-TEL', 'B-POSTCODE', 'B-DRIVERLICENSE', 'I-GEOCOORD',\n",
    "    'I-COUNTRY', 'I-EMAIL', 'I-PASS', 'B-SEX', 'I-USERNAME', 'I-BUILDING', 'I-IP',\n",
    "    'I-SECADDRESS', 'B-CARDISSUER', 'I-CARDISSUER'\n",
    "]\n",
    "\n",
    "id2label = {i: l for i, l in enumerate(all_labels)}\n",
    "label2id = {v: k for k, v in id2label.items()}\n",
    "n_labels = len(all_labels)"
   ]
  },
  {
   "cell_type": "code",
   "execution_count": 41,
   "metadata": {},
   "outputs": [],
   "source": [
    "def compute_all_metrics(model, tokenizer, dataset, batch_size=8):\n",
    "    model = model.to('cuda')\n",
    "    model.eval()\n",
    "\n",
    "    # Drop non-numeric columns\n",
    "    dataset = dataset.remove_columns([\"source_text\", \"tokens\"])\n",
    "\n",
    "    dataloader = DataLoader(\n",
    "        dataset,\n",
    "        batch_size=batch_size,\n",
    "        collate_fn=DataCollatorForTokenClassification(tokenizer, return_tensors=\"pt\")\n",
    "    )\n",
    "\n",
    "    all_predictions = []\n",
    "    all_labels = []\n",
    "    all_predictions_text = []\n",
    "    all_labels_text = []\n",
    "\n",
    "    with torch.no_grad():\n",
    "        for batch in tqdm(dataloader, desc=\"Evaluating\"):\n",
    "            input_ids = batch[\"input_ids\"].to('cuda')\n",
    "            attention_mask = batch[\"attention_mask\"].to('cuda')\n",
    "            labels = batch[\"labels\"]\n",
    "\n",
    "            outputs = model(input_ids=input_ids, attention_mask=attention_mask)\n",
    "            logits = outputs.logits\n",
    "            preds = torch.argmax(logits, dim=-1).cpu().numpy()\n",
    "            labels = labels.numpy()\n",
    "\n",
    "            all_predictions.extend(preds)\n",
    "            all_labels.extend(labels)\n",
    "\n",
    "            for pred_seq, label_seq in zip(preds, labels):\n",
    "                pred_labels = []\n",
    "                true_labels = []\n",
    "                for p, l in zip(pred_seq, label_seq):\n",
    "                    if l == -100:\n",
    "                        continue\n",
    "                    pred_labels.append(id2label[p])\n",
    "                    true_labels.append(id2label[l])\n",
    "                all_predictions_text.append(pred_labels)\n",
    "                all_labels_text.append(true_labels)\n",
    "\n",
    "        \n",
    "    print(classification_report(all_labels_text, all_predictions_text))\n",
    "\n",
    "    return aux.compute_metrics(all_predictions, all_labels)"
   ]
  },
  {
   "cell_type": "code",
   "execution_count": 33,
   "metadata": {},
   "outputs": [],
   "source": [
    "d_test = aux.json_to_Dataset(\"data/distilbert_test.json\")\n",
    "a_test = aux.json_to_Dataset(\"data/albert_test.json\")\n",
    "d_val= aux.json_to_Dataset(\"data/distilbert_val.json\")\n",
    "a_val = aux.json_to_Dataset(\"data/albert_val.json\")"
   ]
  },
  {
   "cell_type": "code",
   "execution_count": 20,
   "metadata": {},
   "outputs": [],
   "source": [
    "old_d1_model      = AutoModelForTokenClassification.from_pretrained('to_share/distilbert1')\n",
    "old_d1_tokenizer  = AutoTokenizer.from_pretrained('to_share/distilbert1')\n",
    "new_d1_model      = AutoModelForTokenClassification.from_pretrained('models/distilbert1')\n",
    "new_d1_tokenizer  = AutoTokenizer.from_pretrained('models/distilbert1')\n",
    "\n",
    "old_d2_model      = AutoModelForTokenClassification.from_pretrained('to_share/distilbert2')\n",
    "old_d2_tokenizer  = AutoTokenizer.from_pretrained('to_share/distilbert2')\n",
    "new_d2_model      = AutoModelForTokenClassification.from_pretrained('models/distilbert2')\n",
    "new_d2_tokenizer  = AutoTokenizer.from_pretrained('models/distilbert2')\n",
    "\n",
    "old_a_model      = AutoModelForTokenClassification.from_pretrained('to_share/albert1')\n",
    "old_a_tokenizer  = AutoTokenizer.from_pretrained('to_share/albert1')\n",
    "new_a_model      = AutoModelForTokenClassification.from_pretrained('models/albert1')\n",
    "new_a_tokenizer  = AutoTokenizer.from_pretrained('models/albert1')\n"
   ]
  },
  {
   "cell_type": "code",
   "execution_count": 45,
   "metadata": {},
   "outputs": [
    {
     "name": "stderr",
     "output_type": "stream",
     "text": [
      "Inference Progress: 100%|██████████| 962/962 [00:58<00:00, 16.39it/s]\n"
     ]
    },
    {
     "data": {
      "text/plain": [
       "{'precision': np.float64(0.49486963835155595),\n",
       " 'recall': np.float64(0.6415176624509377),\n",
       " 'f1': np.float64(0.5587313645427785),\n",
       " 'accuracy': 0.9469328263624841,\n",
       " 'confusion_matrix': array([[ 72,   0,   0, ...,   0,   0,   0],\n",
       "        [  1, 122,   0, ...,   1,   0,   0],\n",
       "        [  0,   0, 263, ...,   0,   0,   0],\n",
       "        ...,\n",
       "        [  0,   0,   0, ...,  55,   0,   0],\n",
       "        [  0,   0,   0, ...,   0, 608,   0],\n",
       "        [  0,   0,   0, ...,   1,   0,  61]], shape=(41, 41))}"
      ]
     },
     "execution_count": 45,
     "metadata": {},
     "output_type": "execute_result"
    }
   ],
   "source": [
    "d_test = aux.json_to_Dataset_adv(\"data/distilbert_test_adv.json\")\n",
    "model = AutoModelForTokenClassification.from_pretrained('models/distilbert1')\n",
    "tokenizer = AutoTokenizer.from_pretrained('models/distilbert1')\n",
    "res = aux.compute_all_metrics(model, d_test)\n",
    "res"
   ]
  },
  {
   "cell_type": "code",
   "execution_count": 11,
   "metadata": {},
   "outputs": [
    {
     "name": "stderr",
     "output_type": "stream",
     "text": [
      "Inference Progress: 100%|██████████| 962/962 [00:56<00:00, 17.15it/s]\n"
     ]
    },
    {
     "data": {
      "text/plain": [
       "{'precision': np.float64(0.561275881365417),\n",
       " 'recall': np.float64(0.6561273440907108),\n",
       " 'f1': np.float64(0.6050065346335579),\n",
       " 'accuracy': 0.9589094918820263,\n",
       " 'confusion_matrix': array([[125,   7,   0, ...,   1,   0,   0],\n",
       "        [  0, 134,   0, ...,   0,   0,   0],\n",
       "        [  0,   0, 269, ...,   0,   1,   0],\n",
       "        ...,\n",
       "        [  0,   0,   0, ...,  33,   0,   0],\n",
       "        [  0,   0,   0, ...,   0, 607,   0],\n",
       "        [  0,   0,   0, ...,   0,   0,  53]], shape=(41, 41))}"
      ]
     },
     "execution_count": 11,
     "metadata": {},
     "output_type": "execute_result"
    }
   ],
   "source": [
    "test = aux.json_to_Dataset_adv(\"data/albert_test_adv.json\")\n",
    "model = AutoModelForTokenClassification.from_pretrained('models/albert1')\n",
    "tokenizer = AutoTokenizer.from_pretrained('models/albert1')\n",
    "res = aux.compute_all_metrics(model, test)\n",
    "res"
   ]
  },
  {
   "cell_type": "code",
   "execution_count": 34,
   "metadata": {},
   "outputs": [
    {
     "name": "stderr",
     "output_type": "stream",
     "text": [
      "Evaluating: 100%|██████████| 290/290 [00:05<00:00, 53.65it/s]\n"
     ]
    },
    {
     "name": "stdout",
     "output_type": "stream",
     "text": [
      "               precision    recall  f1-score   support\n",
      "\n",
      "          BOD       0.97      0.98      0.97       548\n",
      "     BUILDING       0.97      0.99      0.98       547\n",
      "         CITY       0.97      0.99      0.98       536\n",
      "      COUNTRY       0.97      0.96      0.96       429\n",
      "         DATE       0.92      0.95      0.94       500\n",
      "DRIVERLICENSE       0.92      0.95      0.94       673\n",
      "        EMAIL       0.97      0.99      0.98       837\n",
      "     GEOCOORD       0.98      0.98      0.98        45\n",
      "       IDCARD       0.96      0.89      0.93       759\n",
      "           IP       0.99      0.99      0.99       611\n",
      "         PASS       0.96      0.96      0.96       446\n",
      "     PASSPORT       0.90      0.97      0.93       693\n",
      "     POSTCODE       0.97      0.98      0.97       530\n",
      "   SECADDRESS       0.98      0.97      0.97       204\n",
      "          SEX       0.99      1.00      0.99       510\n",
      " SOCIALNUMBER       0.93      0.94      0.94       718\n",
      "        STATE       0.99      0.99      0.99       527\n",
      "       STREET       0.96      0.98      0.97       533\n",
      "          TEL       0.97      0.99      0.98       506\n",
      "         TIME       0.96      0.98      0.97      1021\n",
      "        TITLE       0.92      0.96      0.94       454\n",
      "     USERNAME       0.95      0.94      0.94       887\n",
      "\n",
      "    micro avg       0.96      0.97      0.96     12514\n",
      "    macro avg       0.96      0.97      0.96     12514\n",
      " weighted avg       0.96      0.97      0.96     12514\n",
      "\n"
     ]
    },
    {
     "name": "stderr",
     "output_type": "stream",
     "text": [
      "Evaluating: 100%|██████████| 290/290 [00:05<00:00, 52.54it/s]\n"
     ]
    },
    {
     "name": "stdout",
     "output_type": "stream",
     "text": [
      "               precision    recall  f1-score   support\n",
      "\n",
      "          BOD       0.98      0.97      0.97       548\n",
      "     BUILDING       0.98      0.98      0.98       547\n",
      "         CITY       0.96      0.96      0.96       536\n",
      "      COUNTRY       0.96      0.96      0.96       429\n",
      "         DATE       0.91      0.93      0.92       500\n",
      "DRIVERLICENSE       0.93      0.91      0.92       673\n",
      "        EMAIL       0.97      0.99      0.98       837\n",
      "     GEOCOORD       0.88      0.96      0.91        45\n",
      "       IDCARD       0.92      0.92      0.92       759\n",
      "           IP       0.98      0.99      0.98       611\n",
      "         PASS       0.93      0.92      0.92       446\n",
      "     PASSPORT       0.92      0.93      0.93       693\n",
      "     POSTCODE       0.94      0.97      0.96       530\n",
      "   SECADDRESS       0.96      0.96      0.96       204\n",
      "          SEX       0.97      0.99      0.98       510\n",
      " SOCIALNUMBER       0.94      0.94      0.94       718\n",
      "        STATE       0.97      0.98      0.98       527\n",
      "       STREET       0.94      0.97      0.96       533\n",
      "          TEL       0.94      0.98      0.96       506\n",
      "         TIME       0.97      0.98      0.97      1021\n",
      "        TITLE       0.92      0.92      0.92       454\n",
      "     USERNAME       0.88      0.94      0.91       887\n",
      "\n",
      "    micro avg       0.94      0.96      0.95     12514\n",
      "    macro avg       0.94      0.96      0.95     12514\n",
      " weighted avg       0.95      0.96      0.95     12514\n",
      "\n"
     ]
    },
    {
     "name": "stderr",
     "output_type": "stream",
     "text": [
      "Evaluating: 100%|██████████| 290/290 [00:05<00:00, 51.07it/s]\n"
     ]
    },
    {
     "name": "stdout",
     "output_type": "stream",
     "text": [
      "               precision    recall  f1-score   support\n",
      "\n",
      "          BOD       0.97      0.99      0.98       548\n",
      "     BUILDING       0.99      0.99      0.99       547\n",
      "         CITY       0.98      0.99      0.98       536\n",
      "      COUNTRY       0.97      0.98      0.97       429\n",
      "         DATE       0.97      0.94      0.96       500\n",
      "DRIVERLICENSE       0.96      0.95      0.95       673\n",
      "        EMAIL       0.98      0.99      0.99       837\n",
      "     GEOCOORD       0.96      0.96      0.96        45\n",
      "       IDCARD       0.94      0.95      0.95       759\n",
      "           IP       0.99      0.99      0.99       611\n",
      "         PASS       0.98      0.98      0.98       446\n",
      "     PASSPORT       0.95      0.96      0.95       693\n",
      "     POSTCODE       0.98      0.98      0.98       530\n",
      "   SECADDRESS       0.99      0.97      0.98       204\n",
      "          SEX       0.99      1.00      0.99       510\n",
      " SOCIALNUMBER       0.95      0.95      0.95       718\n",
      "        STATE       0.99      0.99      0.99       527\n",
      "       STREET       0.97      0.98      0.97       533\n",
      "          TEL       0.98      0.99      0.99       506\n",
      "         TIME       0.97      0.99      0.98      1021\n",
      "        TITLE       0.93      0.96      0.94       454\n",
      "     USERNAME       0.97      0.95      0.96       887\n",
      "\n",
      "    micro avg       0.97      0.97      0.97     12514\n",
      "    macro avg       0.97      0.97      0.97     12514\n",
      " weighted avg       0.97      0.97      0.97     12514\n",
      "\n"
     ]
    },
    {
     "name": "stderr",
     "output_type": "stream",
     "text": [
      "Evaluating: 100%|██████████| 290/290 [00:05<00:00, 51.55it/s]\n"
     ]
    },
    {
     "name": "stdout",
     "output_type": "stream",
     "text": [
      "               precision    recall  f1-score   support\n",
      "\n",
      "          BOD       0.96      0.97      0.96       548\n",
      "     BUILDING       0.99      0.98      0.99       547\n",
      "         CITY       0.96      0.96      0.96       536\n",
      "      COUNTRY       0.95      0.96      0.96       429\n",
      "         DATE       0.92      0.93      0.92       500\n",
      "DRIVERLICENSE       0.91      0.94      0.92       673\n",
      "        EMAIL       0.97      0.99      0.98       837\n",
      "     GEOCOORD       0.92      0.98      0.95        45\n",
      "       IDCARD       0.91      0.93      0.92       759\n",
      "           IP       0.97      0.99      0.98       611\n",
      "         PASS       0.93      0.91      0.92       446\n",
      "     PASSPORT       0.93      0.91      0.92       693\n",
      "     POSTCODE       0.94      0.96      0.95       530\n",
      "   SECADDRESS       0.97      0.96      0.96       204\n",
      "          SEX       0.98      0.99      0.98       510\n",
      " SOCIALNUMBER       0.92      0.93      0.93       718\n",
      "        STATE       0.97      0.98      0.98       527\n",
      "       STREET       0.94      0.96      0.95       533\n",
      "          TEL       0.96      0.98      0.97       506\n",
      "         TIME       0.97      0.97      0.97      1021\n",
      "        TITLE       0.92      0.94      0.93       454\n",
      "     USERNAME       0.92      0.91      0.92       887\n",
      "\n",
      "    micro avg       0.95      0.95      0.95     12514\n",
      "    macro avg       0.95      0.96      0.95     12514\n",
      " weighted avg       0.95      0.95      0.95     12514\n",
      "\n"
     ]
    }
   ],
   "source": [
    "res1_old = compute_all_metrics(old_d1_model, old_d1_tokenizer, d_test)\n",
    "res1_new = compute_all_metrics(new_d1_model, new_d1_tokenizer, d_test)\n",
    "res2_old = compute_all_metrics(old_d2_model, old_d2_tokenizer, d_test)\n",
    "res2_new = compute_all_metrics(new_d2_model, new_d2_tokenizer, d_test)\n"
   ]
  },
  {
   "cell_type": "code",
   "execution_count": 35,
   "metadata": {},
   "outputs": [
    {
     "data": {
      "text/plain": [
       "{'precision': np.float64(0.9571338184118949),\n",
       " 'recall': np.float64(0.9670768739012306),\n",
       " 'f1': np.float64(0.9620796565704747),\n",
       " 'accuracy': 0.9956496368619033,\n",
       " 'confusion_matrix': array([[ 527,    3,    0, ...,    0,    0,    0],\n",
       "        [   0,  529,    0, ...,    0,    0,    0],\n",
       "        [   0,    0,  748, ...,    0,    0,    0],\n",
       "        ...,\n",
       "        [   0,    0,    0, ...,    0,    0,    0],\n",
       "        [   0,    0,    0, ...,    0, 1599,    0],\n",
       "        [   0,    0,    0, ...,    0,    0,  210]], shape=(45, 45))}"
      ]
     },
     "execution_count": 35,
     "metadata": {},
     "output_type": "execute_result"
    }
   ],
   "source": [
    "res1_old"
   ]
  },
  {
   "cell_type": "code",
   "execution_count": 36,
   "metadata": {},
   "outputs": [
    {
     "data": {
      "text/plain": [
       "{'precision': np.float64(0.9448520710059172),\n",
       " 'recall': np.float64(0.9570081508710244),\n",
       " 'f1': np.float64(0.9508912620588352),\n",
       " 'accuracy': 0.9939824318269441,\n",
       " 'confusion_matrix': array([[ 525,    1,    0, ...,    0,    0,    0],\n",
       "        [   7,  518,    0, ...,    0,    0,    0],\n",
       "        [   0,    0,  728, ...,    0,    0,    0],\n",
       "        ...,\n",
       "        [   0,    0,    0, ...,    0,    0,    0],\n",
       "        [   0,    0,    0, ...,    0, 1588,    0],\n",
       "        [   0,    0,    0, ...,    0,    0,  211]], shape=(45, 45))}"
      ]
     },
     "execution_count": 36,
     "metadata": {},
     "output_type": "execute_result"
    }
   ],
   "source": [
    "res1_new"
   ]
  },
  {
   "cell_type": "code",
   "execution_count": 37,
   "metadata": {},
   "outputs": [
    {
     "data": {
      "text/plain": [
       "{'precision': np.float64(0.9701266629490959),\n",
       " 'recall': np.float64(0.9731500719194502),\n",
       " 'f1': np.float64(0.9716360154785176),\n",
       " 'accuracy': 0.996696850024487,\n",
       " 'confusion_matrix': array([[ 526,    3,    0, ...,    0,    0,    0],\n",
       "        [   0,  528,    0, ...,    0,    0,    0],\n",
       "        [   0,    0,  735, ...,    0,    0,    0],\n",
       "        ...,\n",
       "        [   0,    0,    0, ...,    0,    0,    0],\n",
       "        [   0,    0,    0, ...,    0, 1610,    0],\n",
       "        [   0,    0,    0, ...,    0,    0,  210]], shape=(45, 45))}"
      ]
     },
     "execution_count": 37,
     "metadata": {},
     "output_type": "execute_result"
    }
   ],
   "source": [
    "res2_old"
   ]
  },
  {
   "cell_type": "code",
   "execution_count": 38,
   "metadata": {},
   "outputs": [
    {
     "data": {
      "text/plain": [
       "{'precision': np.float64(0.9450027696446942),\n",
       " 'recall': np.float64(0.9542911938628735),\n",
       " 'f1': np.float64(0.9496242694127471),\n",
       " 'accuracy': 0.9938417614021194,\n",
       " 'confusion_matrix': array([[ 520,    5,    0, ...,    0,    0,    0],\n",
       "        [   7,  519,    0, ...,    0,    0,    0],\n",
       "        [   0,    0,  713, ...,    0,    0,    0],\n",
       "        ...,\n",
       "        [   0,    0,    0, ...,    0,    0,    0],\n",
       "        [   0,    0,    0, ...,    0, 1598,    0],\n",
       "        [   0,    0,    0, ...,    0,    0,  209]], shape=(45, 45))}"
      ]
     },
     "execution_count": 38,
     "metadata": {},
     "output_type": "execute_result"
    }
   ],
   "source": [
    "res2_new"
   ]
  },
  {
   "cell_type": "code",
   "execution_count": 39,
   "metadata": {},
   "outputs": [
    {
     "name": "stderr",
     "output_type": "stream",
     "text": [
      "Evaluating: 100%|██████████| 290/290 [00:17<00:00, 17.03it/s]\n"
     ]
    },
    {
     "name": "stdout",
     "output_type": "stream",
     "text": [
      "               precision    recall  f1-score   support\n",
      "\n",
      "          BOD       0.95      0.99      0.97       548\n",
      "     BUILDING       0.99      0.99      0.99       547\n",
      "         CITY       0.97      0.96      0.97       536\n",
      "      COUNTRY       0.98      0.92      0.95       429\n",
      "         DATE       0.94      0.93      0.94       500\n",
      "DRIVERLICENSE       0.96      0.93      0.95       673\n",
      "        EMAIL       0.98      0.99      0.98       837\n",
      "     GEOCOORD       0.98      0.98      0.98        45\n",
      "       IDCARD       0.93      0.94      0.93       759\n",
      "           IP       1.00      0.99      0.99       611\n",
      "         PASS       0.97      0.98      0.98       446\n",
      "     PASSPORT       0.90      0.97      0.93       693\n",
      "     POSTCODE       0.94      0.96      0.95       530\n",
      "   SECADDRESS       0.99      0.97      0.98       204\n",
      "          SEX       0.99      1.00      1.00       510\n",
      " SOCIALNUMBER       0.95      0.94      0.95       718\n",
      "        STATE       0.99      0.97      0.98       527\n",
      "       STREET       0.97      0.97      0.97       533\n",
      "          TEL       0.97      0.98      0.98       506\n",
      "         TIME       0.97      0.98      0.98      1021\n",
      "        TITLE       0.95      0.95      0.95       454\n",
      "     USERNAME       0.95      0.95      0.95       887\n",
      "\n",
      "    micro avg       0.96      0.97      0.96     12514\n",
      "    macro avg       0.97      0.97      0.97     12514\n",
      " weighted avg       0.96      0.97      0.96     12514\n",
      "\n"
     ]
    },
    {
     "name": "stderr",
     "output_type": "stream",
     "text": [
      "Evaluating: 100%|██████████| 290/290 [00:17<00:00, 16.72it/s]\n"
     ]
    },
    {
     "name": "stdout",
     "output_type": "stream",
     "text": [
      "               precision    recall  f1-score   support\n",
      "\n",
      "          BOD       0.97      0.97      0.97       548\n",
      "     BUILDING       0.98      0.98      0.98       547\n",
      "         CITY       0.96      0.96      0.96       536\n",
      "      COUNTRY       0.95      0.97      0.96       429\n",
      "         DATE       0.92      0.92      0.92       500\n",
      "DRIVERLICENSE       0.93      0.93      0.93       673\n",
      "        EMAIL       0.98      0.99      0.98       837\n",
      "     GEOCOORD       0.86      0.96      0.91        45\n",
      "       IDCARD       0.91      0.89      0.90       759\n",
      "           IP       1.00      0.99      0.99       611\n",
      "         PASS       0.97      0.96      0.97       446\n",
      "     PASSPORT       0.89      0.89      0.89       693\n",
      "     POSTCODE       0.94      0.95      0.95       530\n",
      "   SECADDRESS       0.98      0.96      0.97       204\n",
      "          SEX       0.97      0.99      0.98       510\n",
      " SOCIALNUMBER       0.89      0.93      0.91       718\n",
      "        STATE       0.96      0.97      0.96       527\n",
      "       STREET       0.97      0.97      0.97       533\n",
      "          TEL       0.95      0.95      0.95       506\n",
      "         TIME       0.96      0.97      0.96      1021\n",
      "        TITLE       0.92      0.93      0.93       454\n",
      "     USERNAME       0.91      0.94      0.92       887\n",
      "\n",
      "    micro avg       0.94      0.95      0.95     12514\n",
      "    macro avg       0.94      0.95      0.95     12514\n",
      " weighted avg       0.94      0.95      0.95     12514\n",
      "\n"
     ]
    }
   ],
   "source": [
    "resa_old = compute_all_metrics(old_a_model, old_a_tokenizer, a_test)\n",
    "resa_new = compute_all_metrics(new_a_model, new_a_tokenizer, a_test)\n"
   ]
  },
  {
   "cell_type": "code",
   "execution_count": 34,
   "metadata": {},
   "outputs": [
    {
     "data": {
      "text/plain": [
       "{'precision': np.float64(0.9627888446215139),\n",
       " 'recall': np.float64(0.9655585743966757),\n",
       " 'f1': np.float64(0.9641717203957868),\n",
       " 'accuracy': 0.995327419598763,\n",
       " 'confusion_matrix': array([[ 520,    3,    0, ...,    0,    0,    0],\n",
       "        [   1,  514,    0, ...,    0,    0,    0],\n",
       "        [   0,    0,  721, ...,    0,    0,    0],\n",
       "        ...,\n",
       "        [   0,    0,    0, ...,    0,    0,    0],\n",
       "        [   0,    0,    0, ...,    0, 1587,    0],\n",
       "        [   0,    0,    0, ...,    0,    0,  210]], shape=(45, 45))}"
      ]
     },
     "execution_count": 34,
     "metadata": {},
     "output_type": "execute_result"
    }
   ],
   "source": [
    "resa_old"
   ]
  },
  {
   "cell_type": "code",
   "execution_count": 35,
   "metadata": {},
   "outputs": [
    {
     "data": {
      "text/plain": [
       "{'precision': np.float64(0.901991288114499),\n",
       " 'recall': np.float64(0.9266421607799264),\n",
       " 'f1': np.float64(0.9141505715411903),\n",
       " 'accuracy': 0.9901542055831077,\n",
       " 'confusion_matrix': array([[ 519,    8,    0, ...,    0,    0,    0],\n",
       "        [   4,  510,    0, ...,    0,    0,    0],\n",
       "        [   0,    0,  718, ...,    0,    0,    0],\n",
       "        ...,\n",
       "        [   0,    0,    0, ...,    0,    0,    0],\n",
       "        [   0,    0,    0, ...,    0, 1614,    0],\n",
       "        [   0,    0,    0, ...,    0,    0,  209]], shape=(45, 45))}"
      ]
     },
     "execution_count": 35,
     "metadata": {},
     "output_type": "execute_result"
    }
   ],
   "source": [
    "resa_new"
   ]
  },
  {
   "cell_type": "code",
   "execution_count": 40,
   "metadata": {},
   "outputs": [
    {
     "name": "stderr",
     "output_type": "stream",
     "text": [
      "Evaluating: 100%|██████████| 261/261 [00:04<00:00, 54.74it/s]\n",
      "Evaluating: 100%|██████████| 261/261 [00:04<00:00, 56.25it/s]\n"
     ]
    }
   ],
   "source": [
    "res1_new_val = compute_all_metrics(new_d1_model, new_d1_tokenizer, d_val)\n",
    "res2_new_val = compute_all_metrics(new_d2_model, new_d2_tokenizer, d_val)\n"
   ]
  },
  {
   "cell_type": "code",
   "execution_count": 41,
   "metadata": {},
   "outputs": [
    {
     "data": {
      "text/plain": [
       "{'precision': np.float64(0.9496475327291037),\n",
       " 'recall': np.float64(0.9642126789366053),\n",
       " 'f1': np.float64(0.9568746829020801),\n",
       " 'accuracy': 0.9950836075909099,\n",
       " 'confusion_matrix': array([[ 467,    3,    0, ...,    0,    0,    0],\n",
       "        [   4,  484,    0, ...,    0,    0,    0],\n",
       "        [   0,    0,  633, ...,    0,    0,    0],\n",
       "        ...,\n",
       "        [   0,    0,    0, ...,   43,    0,    1],\n",
       "        [   0,    0,    0, ...,    0, 1478,    0],\n",
       "        [   0,    0,    0, ...,    0,    0,  209]], shape=(44, 44))}"
      ]
     },
     "execution_count": 41,
     "metadata": {},
     "output_type": "execute_result"
    }
   ],
   "source": [
    "res1_new_val"
   ]
  },
  {
   "cell_type": "code",
   "execution_count": 42,
   "metadata": {},
   "outputs": [
    {
     "data": {
      "text/plain": [
       "{'precision': np.float64(0.9509596840848563),\n",
       " 'recall': np.float64(0.9625395054842908),\n",
       " 'f1': np.float64(0.9567145562895552),\n",
       " 'accuracy': 0.9950893915819794,\n",
       " 'confusion_matrix': array([[ 465,    5,    0, ...,    0,    0,    0],\n",
       "        [   3,  481,    0, ...,    0,    0,    0],\n",
       "        [   0,    0,  638, ...,    0,    0,    0],\n",
       "        ...,\n",
       "        [   0,    0,    0, ...,   26,    0,    1],\n",
       "        [   0,    0,    0, ...,    0, 1480,    0],\n",
       "        [   0,    0,    0, ...,    0,    0,  207]], shape=(44, 44))}"
      ]
     },
     "execution_count": 42,
     "metadata": {},
     "output_type": "execute_result"
    }
   ],
   "source": [
    "res2_new_val"
   ]
  },
  {
   "cell_type": "code",
   "execution_count": 46,
   "metadata": {},
   "outputs": [
    {
     "name": "stderr",
     "output_type": "stream",
     "text": [
      "Evaluating: 100%|██████████| 261/261 [00:14<00:00, 17.55it/s]\n",
      "Evaluating: 100%|██████████| 261/261 [00:14<00:00, 17.76it/s]\n"
     ]
    }
   ],
   "source": [
    "resa_new_val = compute_all_metrics(new_a_model, new_a_tokenizer, a_val)"
   ]
  },
  {
   "cell_type": "code",
   "execution_count": 47,
   "metadata": {},
   "outputs": [
    {
     "data": {
      "text/plain": [
       "{'precision': np.float64(0.9123300090661831),\n",
       " 'recall': np.float64(0.9353969139245213),\n",
       " 'f1': np.float64(0.92371947861208),\n",
       " 'accuracy': 0.9913471493600013,\n",
       " 'confusion_matrix': array([[ 466,    3,    0, ...,    0,    0,    0],\n",
       "        [   1,  476,    0, ...,    0,    0,    0],\n",
       "        [   0,    0,  627, ...,    0,    0,    0],\n",
       "        ...,\n",
       "        [   0,    0,    0, ...,   29,    0,    1],\n",
       "        [   0,    0,    0, ...,    0, 1484,    0],\n",
       "        [   0,    0,    0, ...,    0,    0,  208]], shape=(44, 44))}"
      ]
     },
     "execution_count": 47,
     "metadata": {},
     "output_type": "execute_result"
    }
   ],
   "source": [
    "resa_new_val"
   ]
  },
  {
   "cell_type": "code",
   "execution_count": 48,
   "metadata": {},
   "outputs": [
    {
     "data": {
      "text/plain": [
       "{'precision': np.float64(0.9465077605321508),\n",
       " 'recall': np.float64(0.9523145566090352),\n",
       " 'f1': np.float64(0.949402279677509),\n",
       " 'accuracy': 0.9944242326089848,\n",
       " 'confusion_matrix': array([[ 466,    4,    0, ...,    0,    0,    0],\n",
       "        [   2,  479,    0, ...,    0,    0,    0],\n",
       "        [   0,    0,  630, ...,    0,    0,    0],\n",
       "        ...,\n",
       "        [   0,    0,    0, ...,   28,    0,    1],\n",
       "        [   0,    0,    0, ...,    0, 1480,    0],\n",
       "        [   0,    0,    0, ...,    0,    0,  206]], shape=(44, 44))}"
      ]
     },
     "execution_count": 48,
     "metadata": {},
     "output_type": "execute_result"
    }
   ],
   "source": [
    "resac_new_val"
   ]
  },
  {
   "cell_type": "code",
   "execution_count": 16,
   "metadata": {},
   "outputs": [],
   "source": [
    "conf = np.log(res['confusion_matrix'] + 0.01)"
   ]
  },
  {
   "cell_type": "code",
   "execution_count": 17,
   "metadata": {},
   "outputs": [
    {
     "data": {
      "image/png": "[encoded data removed]",
      "text/plain": [
       "<Figure size 1000x700 with 2 Axes>"
      ]
     },
     "metadata": {},
     "output_type": "display_data"
    }
   ],
   "source": [
    "plt.figure(figsize=(10, 7))\n",
    "sns.heatmap(conf, cmap='Reds')\n",
    "plt.xlabel('Predicted Labels')\n",
    "plt.ylabel('True Labels')\n",
    "plt.title('Confusion Matrix Distilbert Finetuned 1')\n",
    "plt.show()\n"
   ]
  },
  {
   "cell_type": "code",
   "execution_count": 9,
   "metadata": {},
   "outputs": [
    {
     "name": "stdout",
     "output_type": "stream",
     "text": [
      "tensor([[  101,  2026,  2171,  2003, 21987,  2080,  1010,  1998,  2026,  4923,\n",
      "          4003,  2003, 27517,  2487,  1011, 11118,  2487,  1011, 11118,  2487,\n",
      "          1011, 11118,  2487,  3843,  2011,  9425,  1012,   102]])\n",
      "tensor([[1]])\n"
     ]
    }
   ],
   "source": [
    "# Define a test phrase with special tokens\n",
    "\n",
    "test_phrase = \"My name is Cubo, and my credit card is 4111-1111-1111-1111 issued by VISA.\"\n",
    "test_phrase = test_phrase\n",
    "\n",
    "\n",
    "# Tokenize the input\n",
    "inputs = tokenizer.tokenize(test_phrase)\n",
    "input_ids = torch.tensor([[101] + tokenizer.convert_tokens_to_ids(inputs) + [102]])\n",
    "attention_mask = torch.tensor([1 for i in range(len(input_ids))]).unsqueeze(0)\n",
    "\n",
    "print(input_ids)\n",
    "print(attention_mask)"
   ]
  },
  {
   "cell_type": "code",
   "execution_count": 10,
   "metadata": {},
   "outputs": [
    {
     "name": "stdout",
     "output_type": "stream",
     "text": [
      "['O', 'O', 'O', 'O', 'B-USERNAME', 'O', 'O', 'O', 'O', 'O', 'O', 'O', 'B-SOCIALNUMBER', 'I-TEL', 'I-TEL', 'I-TEL', 'I-TEL', 'I-TEL', 'I-TEL', 'I-TEL', 'I-TEL', 'I-TEL', 'I-TEL', 'O', 'O', 'O', 'O', 'O']\n"
     ]
    }
   ],
   "source": [
    "logits, predictions, predicted_token_class, inputs = aux.inference(model, input_ids, attention_mask)\n",
    "\n",
    "print(predicted_token_class)\n"
   ]
  },
  {
   "cell_type": "code",
   "execution_count": 47,
   "metadata": {},
   "outputs": [
    {
     "name": "stdout",
     "output_type": "stream",
     "text": [
      "Token\tPrediction\n",
      "------------------------------\n",
      "[\tO\n",
      "C\tO\n",
      "L\tO\n",
      "S\tO\n",
      "]\tB-USERNAME\n",
      "\n",
      "Colored text (PII in red):\n",
      "[CLS\u001b[1m\u001b[91m]\u001b[0m\n",
      "\n",
      "Detected PII entities:\n"
     ]
    },
    {
     "ename": "TypeError",
     "evalue": "argument 'tokens': Can't extract `str` to `Vec`",
     "output_type": "error",
     "traceback": [
      "\u001b[31m---------------------------------------------------------------------------\u001b[39m",
      "\u001b[31mTypeError\u001b[39m                                 Traceback (most recent call last)",
      "\u001b[36mCell\u001b[39m\u001b[36m \u001b[39m\u001b[32mIn[47]\u001b[39m\u001b[32m, line 74\u001b[39m\n\u001b[32m     71\u001b[39m     entity_spans.append((current_start, \u001b[38;5;28mlen\u001b[39m(tokens)-\u001b[32m1\u001b[39m, current_entity))\n\u001b[32m     73\u001b[39m \u001b[38;5;66;03m# Print the original text with highlighted entities\u001b[39;00m\n\u001b[32m---> \u001b[39m\u001b[32m74\u001b[39m original_tokens = \u001b[43mtokenizer\u001b[49m\u001b[43m.\u001b[49m\u001b[43mconvert_tokens_to_string\u001b[49m\u001b[43m(\u001b[49m\u001b[43mtokens\u001b[49m\u001b[43m)\u001b[49m.split()\n\u001b[32m     75\u001b[39m \u001b[38;5;28;01mfor\u001b[39;00m start, end, entity_type \u001b[38;5;129;01min\u001b[39;00m entity_spans:\n\u001b[32m     76\u001b[39m     entity_text = \u001b[33m\"\u001b[39m\u001b[33m \u001b[39m\u001b[33m\"\u001b[39m.join(original_tokens[start:end+\u001b[32m1\u001b[39m])\n",
      "\u001b[36mFile \u001b[39m\u001b[32mc:\\Users\\samue\\Desktop\\nlp-project\\cubo_env\\Lib\\site-packages\\transformers\\tokenization_utils_fast.py:652\u001b[39m, in \u001b[36mPreTrainedTokenizerFast.convert_tokens_to_string\u001b[39m\u001b[34m(self, tokens)\u001b[39m\n\u001b[32m    650\u001b[39m \u001b[38;5;28;01mdef\u001b[39;00m\u001b[38;5;250m \u001b[39m\u001b[34mconvert_tokens_to_string\u001b[39m(\u001b[38;5;28mself\u001b[39m, tokens: \u001b[38;5;28mlist\u001b[39m[\u001b[38;5;28mstr\u001b[39m]) -> \u001b[38;5;28mstr\u001b[39m:\n\u001b[32m    651\u001b[39m     \u001b[38;5;28;01mreturn\u001b[39;00m (\n\u001b[32m--> \u001b[39m\u001b[32m652\u001b[39m         \u001b[38;5;28;43mself\u001b[39;49m\u001b[43m.\u001b[49m\u001b[43mbackend_tokenizer\u001b[49m\u001b[43m.\u001b[49m\u001b[43mdecoder\u001b[49m\u001b[43m.\u001b[49m\u001b[43mdecode\u001b[49m\u001b[43m(\u001b[49m\u001b[43mtokens\u001b[49m\u001b[43m)\u001b[49m\n\u001b[32m    653\u001b[39m         \u001b[38;5;28;01mif\u001b[39;00m \u001b[38;5;28mself\u001b[39m.backend_tokenizer.decoder \u001b[38;5;129;01mis\u001b[39;00m \u001b[38;5;129;01mnot\u001b[39;00m \u001b[38;5;28;01mNone\u001b[39;00m\n\u001b[32m    654\u001b[39m         \u001b[38;5;28;01melse\u001b[39;00m \u001b[33m\"\u001b[39m\u001b[33m \u001b[39m\u001b[33m\"\u001b[39m.join(tokens)\n\u001b[32m    655\u001b[39m     )\n",
      "\u001b[31mTypeError\u001b[39m: argument 'tokens': Can't extract `str` to `Vec`"
     ]
    }
   ],
   "source": [
    "# Get the tokens from the tokenizer\n",
    "tokens = tokenizer.convert_ids_to_tokens(input_ids[0])\n",
    "\n",
    "# Print results\n",
    "print(\"Token\\tPrediction\")\n",
    "print(\"-\" * 30)\n",
    "for token, prediction in zip(tokens, predicted_token_class):\n",
    "    print(f\"{token}\\t{prediction}\")\n",
    "\n",
    "# Visualize the results with color coding\n",
    "colored_text = []\n",
    "current_entity = None\n",
    "for token, label in zip(tokens, predicted_token_class):\n",
    "    # Skip special tokens\n",
    "    if token in [tokenizer.cls_token, tokenizer.sep_token, tokenizer.pad_token]:\n",
    "        continue\n",
    "        \n",
    "    # Handle subword tokens (starting with ##)\n",
    "    token_display = token.replace(\"##\", \"\")\n",
    "    \n",
    "    if label == \"O\":\n",
    "        # Not an entity\n",
    "        colored_text.append(token_display)\n",
    "        current_entity = None\n",
    "    elif label.startswith(\"B-\"):\n",
    "        # Beginning of entity\n",
    "        entity_type = label[2:]\n",
    "        colored_text.append(f\"\\033[1m\\033[91m{token_display}\\033[0m\")\n",
    "        current_entity = entity_type\n",
    "    elif label.startswith(\"I-\"):\n",
    "        # Inside an entity\n",
    "        entity_type = label[2:]\n",
    "        colored_text.append(f\"\\033[1m\\033[91m{token_display}\\033[0m\")\n",
    "        current_entity = entity_type\n",
    "\n",
    "# Join tokens to form text (this is simplified and might not be perfect for all tokenizers)\n",
    "reconstructed_text = \"\".join(colored_text).replace(\" ##\", \"\")\n",
    "print(\"\\nColored text (PII in red):\")\n",
    "print(reconstructed_text)\n",
    "\n",
    "# Create a more readable visualization\n",
    "print(\"\\nDetected PII entities:\")\n",
    "entity_spans = []\n",
    "current_entity = None\n",
    "current_start = None\n",
    "\n",
    "for i, (token, label) in enumerate(zip(tokens, predicted_token_class)):\n",
    "    # Skip special tokens\n",
    "    if token in [tokenizer.cls_token, tokenizer.sep_token, tokenizer.pad_token]:\n",
    "        continue\n",
    "        \n",
    "    if label.startswith(\"B-\"):\n",
    "        # Beginning of a new entity\n",
    "        if current_entity:\n",
    "            # Save the previous entity\n",
    "            entity_spans.append((current_start, i-1, current_entity))\n",
    "        current_entity = label[2:]\n",
    "        current_start = i\n",
    "    elif label.startswith(\"I-\"):\n",
    "        # Inside an entity - continue\n",
    "        pass\n",
    "    elif label == \"O\":\n",
    "        # Outside any entity\n",
    "        if current_entity:\n",
    "            # Save the previous entity\n",
    "            entity_spans.append((current_start, i-1, current_entity))\n",
    "            current_entity = None\n",
    "\n",
    "# Add the last entity if there is one\n",
    "if current_entity:\n",
    "    entity_spans.append((current_start, len(tokens)-1, current_entity))\n",
    "\n",
    "# Print the original text with highlighted entities\n",
    "original_tokens = tokenizer.convert_tokens_to_string(tokens).split()\n",
    "for start, end, entity_type in entity_spans:\n",
    "    entity_text = \" \".join(original_tokens[start:end+1])\n",
    "    print(f\"{entity_type}: {entity_text}\")\n"
   ]
  },
  {
   "cell_type": "code",
   "execution_count": null,
   "metadata": {},
   "outputs": [],
   "source": []
  },
  {
   "cell_type": "code",
   "execution_count": 8,
   "metadata": {},
   "outputs": [],
   "source": [
    "model = AutoModelForTokenClassification.from_pretrained('distilbert_finetuned2')\n",
    "tokenizer = AutoTokenizer.from_pretrained('distilbert_finetuned2')"
   ]
  },
  {
   "cell_type": "code",
   "execution_count": 9,
   "metadata": {},
   "outputs": [
    {
     "name": "stderr",
     "output_type": "stream",
     "text": [
      "Inference Progress: 100%|██████████| 4811/4811 [03:27<00:00, 23.20it/s]\n"
     ]
    },
    {
     "name": "stdout",
     "output_type": "stream",
     "text": [
      "{'precision': 0.6049911399881867, 'recall': 0.6627305079262374, 'f1': 0.6325459317585301, 'accuracy': 0.9642173775480993, 'confusion_matrix': array([[ 735,  138,    0, ...,    0,    0,    0],\n",
      "       [ 290,  553,    0, ...,    0,    0,    0],\n",
      "       [   0,    0, 1102, ...,    0,    0,    0],\n",
      "       ...,\n",
      "       [   1,    1,    0, ...,    0,    0,    0],\n",
      "       [   0,    0,    0, ...,    0, 3132,    0],\n",
      "       [   4,    0,    0, ...,    0,    0,   24]])}\n"
     ]
    }
   ],
   "source": [
    "res = aux.compute_all_metrics(model, data)\n",
    "print(res)"
   ]
  },
  {
   "cell_type": "code",
   "execution_count": 10,
   "metadata": {},
   "outputs": [],
   "source": [
    "conf = np.log(res['confusion_matrix'] + 0.01)"
   ]
  },
  {
   "cell_type": "code",
   "execution_count": 11,
   "metadata": {},
   "outputs": [
    {
     "data": {
      "image/png": "[encoded data removed]",
      "text/plain": [
       "<Figure size 1000x700 with 2 Axes>"
      ]
     },
     "metadata": {},
     "output_type": "display_data"
    }
   ],
   "source": [
    "plt.figure(figsize=(10, 7))\n",
    "sns.heatmap(conf, cmap='Reds')\n",
    "plt.xlabel('Predicted Labels')\n",
    "plt.ylabel('True Labels')\n",
    "plt.title('Confusion Matrix Distilbert Finetuned 2')\n",
    "plt.show()\n"
   ]
  },
  {
   "cell_type": "code",
   "execution_count": 28,
   "metadata": {},
   "outputs": [],
   "source": [
    "test = aux.json_to_Dataset(\"data/albert_test.json\")"
   ]
  },
  {
   "cell_type": "code",
   "execution_count": 29,
   "metadata": {},
   "outputs": [],
   "source": [
    "data = [i for i in test]"
   ]
  },
  {
   "cell_type": "code",
   "execution_count": 30,
   "metadata": {},
   "outputs": [],
   "source": [
    "model = AutoModelForTokenClassification.from_pretrained('albert_finetuned')\n",
    "tokenizer = AutoTokenizer.from_pretrained('albert_finetuned')"
   ]
  },
  {
   "cell_type": "code",
   "execution_count": 15,
   "metadata": {},
   "outputs": [
    {
     "name": "stderr",
     "output_type": "stream",
     "text": [
      "Inference Progress: 100%|██████████| 4811/4811 [09:04<00:00,  8.83it/s]\n"
     ]
    },
    {
     "name": "stdout",
     "output_type": "stream",
     "text": [
      "{'precision': 0.8581946348149598, 'recall': 0.8862018764153995, 'f1': 0.8719734198117899, 'accuracy': 0.9870027144640001, 'confusion_matrix': array([[ 898,   57,    0, ...,    0,    0,    0],\n",
      "       [   4,  980,    0, ...,    0,    0,    0],\n",
      "       [   0,    0, 1297, ...,    0,    0,    0],\n",
      "       ...,\n",
      "       [   0,    1,    0, ...,    5,    0,    0],\n",
      "       [   0,    0,    0, ...,    0, 3121,    0],\n",
      "       [   0,    0,    0, ...,    0,    0,  392]])}\n"
     ]
    }
   ],
   "source": [
    "res = aux.compute_all_metrics(model, data)\n",
    "print(res)"
   ]
  },
  {
   "cell_type": "code",
   "execution_count": 16,
   "metadata": {},
   "outputs": [],
   "source": [
    "conf = np.log(res['confusion_matrix'] + 0.01)"
   ]
  },
  {
   "cell_type": "code",
   "execution_count": 17,
   "metadata": {},
   "outputs": [
    {
     "data": {
      "image/png": "[encoded data removed]",
      "text/plain": [
       "<Figure size 1000x700 with 2 Axes>"
      ]
     },
     "metadata": {},
     "output_type": "display_data"
    }
   ],
   "source": [
    "plt.figure(figsize=(10, 7))\n",
    "sns.heatmap(conf, cmap='Reds')\n",
    "plt.xlabel('Predicted Labels')\n",
    "plt.ylabel('True Labels')\n",
    "plt.title('Confusion Matrix Albert Finetuned 1')\n",
    "plt.show()\n"
   ]
  },
  {
   "cell_type": "code",
   "execution_count": 18,
   "metadata": {},
   "outputs": [],
   "source": [
    "model = AutoModelForTokenClassification.from_pretrained('albert_finetuned2')\n",
    "tokenizer = AutoTokenizer.from_pretrained('albert_finetuned2')"
   ]
  },
  {
   "cell_type": "code",
   "execution_count": 19,
   "metadata": {},
   "outputs": [
    {
     "name": "stderr",
     "output_type": "stream",
     "text": [
      "Inference Progress: 100%|██████████| 4811/4811 [08:18<00:00,  9.65it/s]\n"
     ]
    },
    {
     "name": "stdout",
     "output_type": "stream",
     "text": [
      "{'precision': 0.8098415671583548, 'recall': 0.8392510514396635, 'f1': 0.8242840687929459, 'accuracy': 0.9826937225822814, 'confusion_matrix': array([[ 904,   36,    0, ...,    0,    0,    1],\n",
      "       [  41,  931,    0, ...,    0,    0,    0],\n",
      "       [   0,    0, 1106, ...,    0,    0,    0],\n",
      "       ...,\n",
      "       [   0,    0,    0, ...,    0,    0,    0],\n",
      "       [   0,    0,    0, ...,    0, 3090,    0],\n",
      "       [   0,    0,    0, ...,    0,    0,  376]])}\n"
     ]
    }
   ],
   "source": [
    "res = aux.compute_all_metrics(model, data)\n",
    "print(res)"
   ]
  },
  {
   "cell_type": "code",
   "execution_count": 20,
   "metadata": {},
   "outputs": [],
   "source": [
    "conf = np.log(res['confusion_matrix'] + 0.01)"
   ]
  },
  {
   "cell_type": "code",
   "execution_count": 21,
   "metadata": {},
   "outputs": [
    {
     "data": {
      "image/png": "[encoded data removed]",
      "text/plain": [
       "<Figure size 1000x700 with 2 Axes>"
      ]
     },
     "metadata": {},
     "output_type": "display_data"
    }
   ],
   "source": [
    "plt.figure(figsize=(10, 7))\n",
    "sns.heatmap(conf, cmap='Reds')\n",
    "plt.xlabel('Predicted Labels')\n",
    "plt.ylabel('True Labels')\n",
    "plt.title('Confusion Matrix Albert Finetuned 2')\n",
    "plt.show()\n"
   ]
  },
  {
   "cell_type": "code",
   "execution_count": 8,
   "metadata": {},
   "outputs": [],
   "source": [
    "distilbert_tuned = AutoModelForTokenClassification.from_pretrained('distilbert_finetuned')\n",
    "albert_tuned = AutoModelForTokenClassification.from_pretrained('albert_finetuned')"
   ]
  },
  {
   "cell_type": "code",
   "execution_count": 9,
   "metadata": {},
   "outputs": [
    {
     "data": {
      "text/plain": [
       "KingBert(\n",
       "  (distilbert): DistilBertForTokenClassification(\n",
       "    (distilbert): DistilBertModel(\n",
       "      (embeddings): Embeddings(\n",
       "        (word_embeddings): Embedding(30522, 768, padding_idx=0)\n",
       "        (position_embeddings): Embedding(512, 768)\n",
       "        (LayerNorm): LayerNorm((768,), eps=1e-12, elementwise_affine=True)\n",
       "        (dropout): Dropout(p=0.1, inplace=False)\n",
       "      )\n",
       "      (transformer): Transformer(\n",
       "        (layer): ModuleList(\n",
       "          (0-5): 6 x TransformerBlock(\n",
       "            (attention): MultiHeadSelfAttention(\n",
       "              (dropout): Dropout(p=0.1, inplace=False)\n",
       "              (q_lin): Linear(in_features=768, out_features=768, bias=True)\n",
       "              (k_lin): Linear(in_features=768, out_features=768, bias=True)\n",
       "              (v_lin): Linear(in_features=768, out_features=768, bias=True)\n",
       "              (out_lin): Linear(in_features=768, out_features=768, bias=True)\n",
       "            )\n",
       "            (sa_layer_norm): LayerNorm((768,), eps=1e-12, elementwise_affine=True)\n",
       "            (ffn): FFN(\n",
       "              (dropout): Dropout(p=0.1, inplace=False)\n",
       "              (lin1): Linear(in_features=768, out_features=3072, bias=True)\n",
       "              (lin2): Linear(in_features=3072, out_features=768, bias=True)\n",
       "              (activation): GELUActivation()\n",
       "            )\n",
       "            (output_layer_norm): LayerNorm((768,), eps=1e-12, elementwise_affine=True)\n",
       "          )\n",
       "        )\n",
       "      )\n",
       "    )\n",
       "    (dropout): Dropout(p=0.1, inplace=False)\n",
       "    (classifier): Linear(in_features=768, out_features=47, bias=True)\n",
       "  )\n",
       "  (albert): AlbertForTokenClassification(\n",
       "    (albert): AlbertModel(\n",
       "      (embeddings): AlbertEmbeddings(\n",
       "        (word_embeddings): Embedding(30000, 128, padding_idx=0)\n",
       "        (position_embeddings): Embedding(512, 128)\n",
       "        (token_type_embeddings): Embedding(2, 128)\n",
       "        (LayerNorm): LayerNorm((128,), eps=1e-12, elementwise_affine=True)\n",
       "        (dropout): Dropout(p=0, inplace=False)\n",
       "      )\n",
       "      (encoder): AlbertTransformer(\n",
       "        (embedding_hidden_mapping_in): Linear(in_features=128, out_features=768, bias=True)\n",
       "        (albert_layer_groups): ModuleList(\n",
       "          (0): AlbertLayerGroup(\n",
       "            (albert_layers): ModuleList(\n",
       "              (0): AlbertLayer(\n",
       "                (full_layer_layer_norm): LayerNorm((768,), eps=1e-12, elementwise_affine=True)\n",
       "                (attention): AlbertAttention(\n",
       "                  (query): Linear(in_features=768, out_features=768, bias=True)\n",
       "                  (key): Linear(in_features=768, out_features=768, bias=True)\n",
       "                  (value): Linear(in_features=768, out_features=768, bias=True)\n",
       "                  (attention_dropout): Dropout(p=0, inplace=False)\n",
       "                  (output_dropout): Dropout(p=0, inplace=False)\n",
       "                  (dense): Linear(in_features=768, out_features=768, bias=True)\n",
       "                  (LayerNorm): LayerNorm((768,), eps=1e-12, elementwise_affine=True)\n",
       "                )\n",
       "                (ffn): Linear(in_features=768, out_features=3072, bias=True)\n",
       "                (ffn_output): Linear(in_features=3072, out_features=768, bias=True)\n",
       "                (activation): NewGELUActivation()\n",
       "                (dropout): Dropout(p=0, inplace=False)\n",
       "              )\n",
       "            )\n",
       "          )\n",
       "        )\n",
       "      )\n",
       "    )\n",
       "    (dropout): Dropout(p=0.1, inplace=False)\n",
       "    (classifier): Linear(in_features=768, out_features=47, bias=True)\n",
       "  )\n",
       "  (softmax): Softmax(dim=1)\n",
       ")"
      ]
     },
     "execution_count": 9,
     "metadata": {},
     "output_type": "execute_result"
    }
   ],
   "source": [
    "model = KingBert(distilbert_tuned=distilbert_tuned, albert_tuned=albert_tuned)\n",
    "state_dict = torch.load('model_state.pth')\n",
    "model.load_state_dict(state_dict)\n",
    "model.eval()"
   ]
  },
  {
   "cell_type": "code",
   "execution_count": 10,
   "metadata": {},
   "outputs": [],
   "source": [
    "dataset = aux.json_to_Dataset_ensemble(\"data/ensemble_test.json\")"
   ]
  },
  {
   "cell_type": "code",
   "execution_count": 11,
   "metadata": {},
   "outputs": [],
   "source": [
    "data = [i for i in dataset]"
   ]
  },
  {
   "cell_type": "code",
   "execution_count": 12,
   "metadata": {},
   "outputs": [
    {
     "name": "stderr",
     "output_type": "stream",
     "text": [
      "Inference Progress:   0%|          | 0/4811 [00:00<?, ?it/s]"
     ]
    },
    {
     "name": "stderr",
     "output_type": "stream",
     "text": [
      "/Users/andreafabbricatore/Desktop/mac_bocconi/year 3/semester 2/AI/project/aux.py:195: UserWarning: To copy construct from a tensor, it is recommended to use sourceTensor.clone().detach() or sourceTensor.clone().detach().requires_grad_(True), rather than torch.tensor(sourceTensor).\n",
      "  stacked_tensors1 = torch.stack([torch.tensor(i) for i in output1])\n",
      "/Users/andreafabbricatore/Desktop/mac_bocconi/year 3/semester 2/AI/project/aux.py:198: UserWarning: To copy construct from a tensor, it is recommended to use sourceTensor.clone().detach() or sourceTensor.clone().detach().requires_grad_(True), rather than torch.tensor(sourceTensor).\n",
      "  stacked_tensors2 = torch.stack([torch.tensor(i) for i in output2])\n",
      "Inference Progress: 100%|██████████| 4811/4811 [12:46<00:00,  6.28it/s]\n"
     ]
    },
    {
     "name": "stdout",
     "output_type": "stream",
     "text": [
      "{'precision': 0.3628616363702864, 'recall': 0.40143238650157803, 'f1': 0.3811737585246374, 'accuracy': 0.9289059300726817, 'confusion_matrix': array([[ 697,   24,    0, ...,    0,    0,    0],\n",
      "       [   2,  633,    0, ...,    0,    0,    0],\n",
      "       [   0,    0, 1023, ...,    0,    0,    0],\n",
      "       ...,\n",
      "       [   0,    0,    0, ...,    0,    0,    0],\n",
      "       [   0,    0,    0, ...,    0, 2774,    0],\n",
      "       [   0,    0,    0, ...,    0,    0,  170]])}\n"
     ]
    }
   ],
   "source": [
    "res = aux.compute_ensemble_metrics(model, data)\n",
    "print(res)"
   ]
  },
  {
   "cell_type": "code",
   "execution_count": 13,
   "metadata": {},
   "outputs": [],
   "source": [
    "conf = np.log(res['confusion_matrix'] + 0.01)"
   ]
  },
  {
   "cell_type": "code",
   "execution_count": 18,
   "metadata": {},
   "outputs": [
    {
     "data": {
      "image/png": "[encoded data removed]",
      "text/plain": [
       "<Figure size 1000x700 with 2 Axes>"
      ]
     },
     "metadata": {},
     "output_type": "display_data"
    }
   ],
   "source": [
    "plt.figure(figsize=(10, 7))\n",
    "sns.heatmap(conf, cmap='Reds')\n",
    "plt.xlabel('Predicted Labels')\n",
    "plt.ylabel('True Labels')\n",
    "plt.title('Confusion Matrix KingBERT')\n",
    "plt.show()\n"
   ]
  },
  {
   "cell_type": "code",
   "execution_count": 15,
   "metadata": {},
   "outputs": [
    {
     "data": {
      "text/plain": [
       "Parameter containing:\n",
       "tensor([0.4559, 0.4714, 0.4623, 0.4843, 0.4836, 0.4946, 0.4494, 0.5482, 0.5389,\n",
       "        0.5174, 0.4891, 0.5062, 0.4962, 0.4947, 0.4990, 0.5642, 0.3211, 0.5558,\n",
       "        0.5375, 0.4941, 0.5328, 0.4993, 0.5131, 0.4998, 0.3293, 0.3792, 0.5204,\n",
       "        0.5098, 0.4599, 0.4734, 0.4943, 0.4348, 0.2828, 0.5257, 0.4587, 0.5047,\n",
       "        0.3600, 0.4441, 0.3064, 0.4887, 0.4986, 0.4949, 0.3398, 0.5661, 0.5431,\n",
       "        0.2914, 0.3014], requires_grad=True)"
      ]
     },
     "execution_count": 15,
     "metadata": {},
     "output_type": "execute_result"
    }
   ],
   "source": [
    "model.alpha"
   ]
  },
  {
   "cell_type": "code",
   "execution_count": null,
   "metadata": {},
   "outputs": [],
   "source": []
  }
 ],
 "metadata": {
  "kernelspec": {
   "display_name": "cubo_env",
   "language": "python",
   "name": "python3"
  },
  "language_info": {
   "codemirror_mode": {
    "name": "ipython",
    "version": 3
   },
   "file_extension": ".py",
   "mimetype": "text/x-python",
   "name": "python",
   "nbconvert_exporter": "python",
   "pygments_lexer": "ipython3",
   "version": "3.12.1"
  }
 },
 "nbformat": 4,
 "nbformat_minor": 2
}
