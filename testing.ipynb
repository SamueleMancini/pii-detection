{
 "cells": [
  {
   "cell_type": "code",
   "execution_count": 31,
   "metadata": {},
   "outputs": [],
   "source": [
    "import auxiliary as aux\n",
    "from transformers import AutoModelForTokenClassification, TrainingArguments, Trainer, AutoTokenizer, DataCollatorForTokenClassification\n",
    "import matplotlib.pyplot as plt\n",
    "import seaborn as sns\n",
    "import numpy as np\n",
    "import torch\n",
    "from kingbert import KingBert"
   ]
  },
  {
   "cell_type": "code",
   "execution_count": 32,
   "metadata": {},
   "outputs": [],
   "source": [
    "train = aux.json_to_Dataset(\"data/distilbert_train.json\")"
   ]
  },
  {
   "cell_type": "code",
   "execution_count": 33,
   "metadata": {},
   "outputs": [
    {
     "data": {
      "text/plain": [
       "Dataset({\n",
       "    features: ['input_ids', 'labels', 'source_text', 'tokens', 'attention_mask'],\n",
       "    num_rows: 18244\n",
       "})"
      ]
     },
     "execution_count": 33,
     "metadata": {},
     "output_type": "execute_result"
    }
   ],
   "source": [
    "train"
   ]
  },
  {
   "cell_type": "code",
   "execution_count": 34,
   "metadata": {},
   "outputs": [
    {
     "name": "stderr",
     "output_type": "stream",
     "text": [
      "/home/andreafabbricatore/.local/lib/python3.10/site-packages/transformers/modeling_utils.py:488: FutureWarning: You are using `torch.load` with `weights_only=False` (the current default value), which uses the default pickle module implicitly. It is possible to construct malicious pickle data which will execute arbitrary code during unpickling (See https://github.com/pytorch/pytorch/blob/main/SECURITY.md#untrusted-models for more details). In a future release, the default value for `weights_only` will be flipped to `True`. This limits the functions that could be executed during unpickling. Arbitrary objects will no longer be allowed to be loaded via this mode unless they are explicitly allowlisted by the user via `torch.serialization.add_safe_globals`. We recommend you start setting `weights_only=True` for any use case where you don't have full control of the loaded file. Please open an issue on GitHub for any issues related to this experimental feature.\n",
      "  return torch.load(checkpoint_file, map_location=map_location)\n"
     ]
    }
   ],
   "source": [
    "model = AutoModelForTokenClassification.from_pretrained('to_share/distilbert1')\n",
    "tokenizer = AutoTokenizer.from_pretrained('to_share/distilbert1')"
   ]
  },
  {
   "cell_type": "code",
   "execution_count": 35,
   "metadata": {},
   "outputs": [],
   "source": [
    "data = train[0]\n",
    "\n",
    "logits, prediction, predicted_token_class, inputs = aux.inference(model, torch.tensor([data['input_ids']]), torch.tensor([data['attention_mask']]))\n",
    "\n",
    "res = aux.compute_metrics([prediction.tolist()[0]], [data['labels']])"
   ]
  },
  {
   "cell_type": "code",
   "execution_count": null,
   "metadata": {},
   "outputs": [],
   "source": [
    "res = aux.compute_all_metrics(model, train)\n",
    "print(res)"
   ]
  },
  {
   "cell_type": "code",
   "execution_count": 73,
   "metadata": {},
   "outputs": [],
   "source": [
    "# ------------------------------------------------------------------\n",
    "# Helper: fitness for ONE mutated sentence  (uses aux.compute_metrics)\n",
    "# ------------------------------------------------------------------\n",
    "from copy import deepcopy\n",
    "import random\n",
    "\n",
    "from tqdm import tqdm\n",
    "\n",
    "\n",
    "def fitness_score(model, datum, mutated_ids):\n",
    "    _, preds, _, _ = aux.inference(\n",
    "        model,\n",
    "        torch.tensor([mutated_ids]),\n",
    "        torch.tensor([datum[\"attention_mask\"]])\n",
    "    )\n",
    "    metrics = aux.compute_metrics([preds.tolist()[0]], [datum[\"labels\"]])\n",
    "    return 1.0 - metrics[\"recall\"]   # maximise mismatch ⟹ minimise recall\n",
    "\n",
    "\n",
    "# ------------------------------------------------------------------\n",
    "# Evolutionary attack on ONE sentence\n",
    "# ------------------------------------------------------------------\n",
    "def evolve_sentence(\n",
    "    model,\n",
    "    datum,\n",
    "    valid_token_ids,\n",
    "    pop_size=30,\n",
    "    n_generations=20,\n",
    "    mutation_rate=0.15,\n",
    "    elite_frac=0.2,\n",
    "    target_recall=0.2,\n",
    "    seed=42,\n",
    "):\n",
    "    random.seed(seed)\n",
    "    original = datum[\"input_ids\"]\n",
    "    seq_len  = len(original)\n",
    "\n",
    "    def random_mutation(base):\n",
    "        child = base.copy()\n",
    "        for i, lab in enumerate(datum[\"labels\"]):\n",
    "            if lab == 18 and random.random() < mutation_rate:\n",
    "                child[i] = random.choice(valid_token_ids)\n",
    "        return child\n",
    "\n",
    "    population = [random_mutation(original) for _ in range(pop_size)]\n",
    "\n",
    "    for _ in range(n_generations):\n",
    "        fitness_vals = [fitness_score(model, datum, ind) for ind in population]\n",
    "        ranked = sorted(zip(population, fitness_vals), key=lambda x: x[1], reverse=True)\n",
    "        best_ind, best_fit = ranked[0]\n",
    "        best_rec = 1.0 - best_fit\n",
    "        if best_rec <= target_recall:\n",
    "            break\n",
    "\n",
    "        n_elite = max(1, int(elite_frac * pop_size))\n",
    "        elites  = [deepcopy(ind) for ind, _ in ranked[:n_elite]]\n",
    "\n",
    "        offspring = []\n",
    "        while len(offspring) < pop_size - n_elite:\n",
    "            parent = random.choice(elites)\n",
    "            child  = random_mutation(parent)\n",
    "            if random.random() < 0.3:          # crossover\n",
    "                other  = random.choice(elites)\n",
    "                pt     = random.randint(1, seq_len - 2)\n",
    "                child  = child[:pt] + other[pt:]\n",
    "            offspring.append(child)\n",
    "\n",
    "        population = elites + offspring\n",
    "\n",
    "    return best_ind, best_rec\n",
    "\n",
    "# ------------------------------------------------------------------\n",
    "# Attack the whole dataset and report new metrics\n",
    "# ------------------------------------------------------------------\n",
    "def adversarial_dataset(\n",
    "    model,\n",
    "    tokenizer,\n",
    "    dataset,\n",
    "    pop_size=30,\n",
    "    n_generations=20,\n",
    "    mutation_rate=0.15,\n",
    "):\n",
    "    # Cache normal vocab minus specials\n",
    "    special_ids = set(tokenizer.all_special_ids)\n",
    "    valid_token_ids = [tid for tid in tokenizer.get_vocab().values()\n",
    "                       if tid not in special_ids]\n",
    "\n",
    "    adv_inputs = []\n",
    "    adv_labels = []\n",
    "\n",
    "    for datum in tqdm(dataset, desc=\"Evolving sentences\"):\n",
    "        best_ids, _ = evolve_sentence(\n",
    "            model, datum, valid_token_ids,\n",
    "            pop_size=pop_size,\n",
    "            n_generations=n_generations,\n",
    "            mutation_rate=mutation_rate,\n",
    "        )\n",
    "        adv_inputs.append(best_ids)\n",
    "        adv_labels.append(datum[\"labels\"])   # labels unchanged\n",
    "\n",
    "    # Evaluate the whole adversarial corpus\n",
    "    preds = []\n",
    "    for ids, datum in tqdm(zip(adv_inputs, dataset),\n",
    "                           total=len(dataset),\n",
    "                           desc=\"Inference on adversarial set\"):\n",
    "        _, p, _, _ = aux.inference(\n",
    "            model,\n",
    "            torch.tensor([ids]),\n",
    "            torch.tensor([datum[\"attention_mask\"]])\n",
    "        )\n",
    "        preds.append(p.tolist()[0])\n",
    "\n",
    "    metrics = aux.compute_metrics(preds, adv_labels)\n",
    "    return metrics, preds, adv_inputs, dataset"
   ]
  },
  {
   "cell_type": "code",
   "execution_count": 74,
   "metadata": {},
   "outputs": [
    {
     "name": "stderr",
     "output_type": "stream",
     "text": [
      "/home/andreafabbricatore/.local/lib/python3.10/site-packages/transformers/modeling_utils.py:488: FutureWarning: You are using `torch.load` with `weights_only=False` (the current default value), which uses the default pickle module implicitly. It is possible to construct malicious pickle data which will execute arbitrary code during unpickling (See https://github.com/pytorch/pytorch/blob/main/SECURITY.md#untrusted-models for more details). In a future release, the default value for `weights_only` will be flipped to `True`. This limits the functions that could be executed during unpickling. Arbitrary objects will no longer be allowed to be loaded via this mode unless they are explicitly allowlisted by the user via `torch.serialization.add_safe_globals`. We recommend you start setting `weights_only=True` for any use case where you don't have full control of the loaded file. Please open an issue on GitHub for any issues related to this experimental feature.\n",
      "  return torch.load(checkpoint_file, map_location=map_location)\n",
      "Evolving sentences: 100%|██████████| 10/10 [00:16<00:00,  1.65s/it]\n",
      "Inference on adversarial set: 100%|██████████| 10/10 [00:00<00:00, 50.55it/s]\n"
     ]
    },
    {
     "name": "stdout",
     "output_type": "stream",
     "text": [
      "Metrics on evolved examples:\n",
      "   precision: 0.6909\n",
      "      recall: 0.7451\n",
      "          f1: 0.7170\n",
      "    accuracy: 0.9716\n"
     ]
    }
   ],
   "source": [
    "import warnings\n",
    "from sklearn.exceptions import UndefinedMetricWarning\n",
    "\n",
    "# Suppress only the specific warning from seqeval\n",
    "warnings.filterwarnings(\"ignore\", category=UndefinedMetricWarning)\n",
    "\n",
    "# 1️⃣ load everything exactly as you did\n",
    "model      = AutoModelForTokenClassification.from_pretrained('to_share/distilbert1')\n",
    "tokenizer  = AutoTokenizer.from_pretrained('to_share/distilbert1')\n",
    "train_ds   = aux.json_to_Dataset(\"data/distilbert_train.json\")\n",
    "\n",
    "# 2️⃣ run the adversarial evolution\n",
    "adv_metrics, adv_preds, adv_inputs, dataset = adversarial_dataset(\n",
    "    model,\n",
    "    tokenizer,\n",
    "    train_ds.select(range(10)),    # start small for speed\n",
    "    pop_size        = 10,\n",
    "    n_generations   = 5,\n",
    "    mutation_rate   = 0.05,\n",
    ")\n",
    "\n",
    "print(\"Metrics on evolved examples:\")\n",
    "for k, v in adv_metrics.items():\n",
    "    if k != \"confusion_matrix\":\n",
    "        print(f\"{k:>12}: {v:.4f}\")\n"
   ]
  },
  {
   "cell_type": "code",
   "execution_count": 75,
   "metadata": {},
   "outputs": [],
   "source": [
    "# Suppose adv_inputs[0] is a list of token IDs (ints)\n",
    "token_ids = adv_inputs[1]\n",
    "\n",
    "# Convert to tokens\n",
    "tokens = tokenizer.convert_ids_to_tokens(token_ids)\n",
    "\n",
    "# Convert to string (human-readable sentence)\n",
    "sentence = tokenizer.decode(token_ids, skip_special_tokens=True)"
   ]
  },
  {
   "cell_type": "code",
   "execution_count": 77,
   "metadata": {},
   "outputs": [
    {
     "name": "stdout",
     "output_type": "stream",
     "text": [
      "- Meeting at 2:33 PM\n",
      "- N23 - Meeting at 11:29pm\n",
      "- wennmann27 - Meeting at 4:45 PM\n",
      "\n",
      "Kindly make sure to adjust your schedules accordingly. Our group messaging platform will be utilized for any updates, reminders, or changes to the agenda. This collaborative approach will ensure smooth communication and coordination throughout the admissions process.\n",
      "\n",
      "Looking forward to our productive discussions and successful collaboration.\n",
      "\n",
      "Warm regards,\n",
      "[Your Name]\n",
      "[-100, 18, 18, 18, 5, -100, -100, 21, 18, 10, -100, 18, 18, 18, 5, -100, -100, -100, 18, 10, -100, -100, -100, 18, 18, 18, 5, -100, -100, 21, 18, 18, 18, 18, 18, 18, 18, 18, 18, 18, 18, 18, 18, 18, 18, 18, 18, 18, 18, 18, 18, -100, 18, 18, 18, 18, 18, 18, 18, 18, 18, 18, 18, 18, 18, 18, 18, 18, 18, 18, 18, 18, 18, 18, 18, 18, 18, 18, 18, 18, 18, 18, 18, 18, 18, 18, 18, 18, 18, 18, -100]\n",
      "\n",
      "\n",
      "\n",
      "\n",
      "- witches at 2 : 33 pm - n23san meeting at 11 : 29pm - wennmann27unes meeting at 4 : 45 pm romanilean sure to adjust your schedules accordingly. our group messaging platform will be utilized for any born, reminders, or changes to the agenda. recruiting collaborative approachkis ensure smooth communication and coordination throughout the admissions process. looking forward to our productive discussions and successful collaboration. warm regards, [ your name ]\n",
      "[18, 18, 29, 18, 5, 18, 5, 21, 18, 10, 10, 41, 18, 18, 5, 18, 5, 21, 18, 10, 10, 10, 10, 41, 18, 18, 5, 18, 5, 21, 10, 18, 18, 18, 18, 18, 18, 18, 18, 18, 18, 18, 18, 18, 18, 18, 18, 18, 18, 18, 18, 18, 18, 18, 18, 18, 18, 18, 18, 18, 18, 18, 18, 18, 18, 18, 18, 18, 18, 18, 18, 18, 18, 18, 18, 18, 18, 18, 18, 18, 18, 18, 18, 18, 18, 18, 18, 18, 18, 18, 18]\n"
     ]
    }
   ],
   "source": [
    "print(dataset[1]['source_text'])\n",
    "print(dataset[1]['labels'])\n",
    "print(\"\\n\\n\\n\")\n",
    "# Suppose adv_inputs[0] is a list of token IDs (ints)\n",
    "token_ids = adv_inputs[1]\n",
    "\n",
    "# Convert to tokens\n",
    "tokens = tokenizer.convert_ids_to_tokens(token_ids)\n",
    "\n",
    "# Convert to string (human-readable sentence)\n",
    "sentence = tokenizer.decode(token_ids, skip_special_tokens=True)\n",
    "print(sentence)\n",
    "print(adv_preds[1])"
   ]
  },
  {
   "cell_type": "code",
   "execution_count": 88,
   "metadata": {},
   "outputs": [
    {
     "name": "stdout",
     "output_type": "stream",
     "text": [
      "🔵 Original Sentence:\n",
      "[CLS] - meeting at ^^**2**^^ : ^^33^^ ^^**pm**^^ - ^^**n**^^ ^^##23^^ - meeting at ^^**11**^^ : ^^29^^ ^^##pm^^ - ^^**wen**^^ ^^##n^^ ^^##mann^^ ^^##27^^ - meeting at ^^**4**^^ : ^^45^^ ^^**pm**^^ kindly make sure to adjust your schedules accordingly. our group messaging platform will be utilized for any updates, reminders, or changes to the agenda. this collaborative approach will ensure smooth communication and coordination throughout the admissions process. looking forward to our productive discussions and successful collaboration. warm regards, [ your name ] [SEP]\n",
      "\n",
      "🔴 Adversarial Sentence:\n",
      "[CLS] - ^^witches^^ at ^^2^^ : ^^33^^ ^^pm^^ - ^^n^^ ^^##23^^ ^^##san^^ meeting at ^^11^^ : ^^29^^ ^^##pm^^ - ^^wen^^ ^^##n^^ ^^##mann^^ ^^##27^^ ^^##unes^^ meeting at ^^4^^ : ^^45^^ ^^pm^^ ^^romani^^lean sure to adjust your schedules accordingly. our group messaging platform will be utilized for any born, reminders, or changes to the agenda. recruiting collaborative approachkis ensure smooth communication and coordination throughout the admissions process. looking forward to our productive discussions and successful collaboration. warm regards, [ your name ] [SEP]\n"
     ]
    }
   ],
   "source": [
    "# Adversarial input details\n",
    "token_ids = adv_inputs[1]\n",
    "predicted_labels = adv_preds[1]\n",
    "true_labels = dataset[1]['labels']\n",
    "\n",
    "# --- ORIGINAL INPUT ---\n",
    "# Tokenize original input\n",
    "original_encoding = tokenizer(dataset[1]['source_text'], truncation=True, padding=\"max_length\", max_length=len(token_ids))\n",
    "original_ids = original_encoding['input_ids']\n",
    "original_tokens = tokenizer.convert_ids_to_tokens(original_ids)\n",
    "original_attention = original_encoding['attention_mask']\n",
    "original_labels = dataset[1]['labels']\n",
    "\n",
    "# Get model prediction on original\n",
    "_, original_preds, _, _ = aux.inference(\n",
    "    model,\n",
    "    torch.tensor([original_ids]),\n",
    "    torch.tensor([original_attention])\n",
    ")\n",
    "original_preds = original_preds[0]\n",
    "\n",
    "# Highlight for original sentence\n",
    "original_highlighted = []\n",
    "for token, true_label, pred_label in zip(original_tokens, original_labels, original_preds):\n",
    "    display_token = token\n",
    "    if true_label != -100 and true_label != 18:\n",
    "        display_token = f\"**{display_token}**\"\n",
    "    if pred_label != -100 and pred_label != 18:\n",
    "        display_token = f\"^^{display_token}^^\"\n",
    "    original_highlighted.append(display_token)\n",
    "\n",
    "original_sentence = tokenizer.convert_tokens_to_string(original_highlighted)\n",
    "\n",
    "# --- ADVERSARIAL INPUT ---\n",
    "adv_tokens = tokenizer.convert_ids_to_tokens(token_ids)\n",
    "adv_pred_labels = predicted_labels  # already adv_preds[1]\n",
    "adv_true_labels = true_labels       # dataset[1]['labels']\n",
    "\n",
    "adv_highlighted = []\n",
    "for token, pred_label, true_label in zip(adv_tokens, adv_pred_labels, adv_true_labels):\n",
    "    display_token = token\n",
    "    if pred_label != -100 and pred_label != 18:\n",
    "        display_token = f\"^^{display_token}^^\"\n",
    "    adv_highlighted.append(display_token)\n",
    "\n",
    "adv_sentence = tokenizer.convert_tokens_to_string(adv_highlighted)\n",
    "\n",
    "# --- OUTPUT ---\n",
    "print(\"🔵 Original Sentence:\")\n",
    "print(original_sentence)\n",
    "\n",
    "print(\"\\n🔴 Adversarial Sentence:\")\n",
    "print(adv_sentence)\n"
   ]
  },
  {
   "cell_type": "code",
   "execution_count": 89,
   "metadata": {},
   "outputs": [
    {
     "name": "stdout",
     "output_type": "stream",
     "text": [
      "✅ Ground Truth PII Tokens (Original):\n",
      "['2', 'pm', 'n', '11', 'wen', '4', 'pm']\n",
      "\n",
      "❌ Predicted PII Tokens (Adversarial):\n",
      "['witches', '2', '33', 'pm', 'n', '##23', '##san', '11', '29', '##pm', 'wen', '##n', '##mann', '##27', '##unes', '4', '45', 'pm', 'romani']\n"
     ]
    }
   ],
   "source": [
    "# ---- Ground Truth PII Tokens in Original ----\n",
    "original_text = dataset[1]['source_text']\n",
    "original_encoding = tokenizer(original_text, truncation=True, padding=\"max_length\", max_length=len(adv_inputs[1]))\n",
    "original_tokens = tokenizer.convert_ids_to_tokens(original_encoding['input_ids'])\n",
    "original_labels = dataset[1]['labels']\n",
    "\n",
    "ground_truth_tokens = [\n",
    "    token for token, label in zip(original_tokens, original_labels)\n",
    "    if label != -100 and label != 18\n",
    "]\n",
    "\n",
    "print(\"✅ Ground Truth PII Tokens (Original):\")\n",
    "print(ground_truth_tokens)\n",
    "\n",
    "\n",
    "# ---- Predicted PII Tokens in Adversarial ----\n",
    "adv_token_ids = adv_inputs[1]\n",
    "adv_pred_labels = adv_preds[1]\n",
    "adv_tokens = tokenizer.convert_ids_to_tokens(adv_token_ids)\n",
    "\n",
    "predicted_pii_tokens = [\n",
    "    token for token, pred_label in zip(adv_tokens, adv_pred_labels)\n",
    "    if pred_label != -100 and pred_label != 18\n",
    "]\n",
    "\n",
    "print(\"\\n❌ Predicted PII Tokens (Adversarial):\")\n",
    "print(predicted_pii_tokens)\n"
   ]
  },
  {
   "cell_type": "code",
   "execution_count": 96,
   "metadata": {},
   "outputs": [
    {
     "name": "stdout",
     "output_type": "stream",
     "text": [
      "[[18, 18, 18, 18, 18, 18, 18, 18, 18, 18, 18, 18, 18, 18, 18, 18, 18, 18, 18, 18, 18, 1, 18, 18, 18, 18, 18, 18, 18, 18, 18, 18, 18, 18, 18, 18, 18, 18, 18, 18, 18, 18, 18, 18, 18, 18, 18, 18, 18, 18, 18, 18, 18, 10, 10, 10, 10, 10, 18, 8, 18, 18, 18, 5, 18, 5, 21, 18, 10, 10, 41, 41, 41, 18, 18, 18, 5, 18, 10, 10, 10, 41, 41, 41, 41, 18, 18, 18, 5, 21, 21, 18, 10, 10, 10, 10, 10, 41, 41, 41, 18, 41, 18, 18, 18, 5, 18, 5, 21, 18, 18, 18, 18, 18, 18, 18, 18, 18, 18], [18, 18, 29, 18, 5, 18, 5, 21, 18, 10, 10, 41, 18, 18, 5, 18, 5, 21, 18, 10, 10, 10, 10, 41, 18, 18, 5, 18, 5, 21, 10, 18, 18, 18, 18, 18, 18, 18, 18, 18, 18, 18, 18, 18, 18, 18, 18, 18, 18, 18, 18, 18, 18, 18, 18, 18, 18, 18, 18, 18, 18, 18, 18, 18, 18, 18, 18, 18, 18, 18, 18, 18, 18, 18, 18, 18, 18, 18, 18, 18, 18, 18, 18, 18, 18, 18, 18, 18, 18, 18, 18], [18, 18, 18, 18, 18, 18, 18, 18, 18, 18, 18, 18, 18, 18, 18, 18, 18, 18, 18, 18, 18, 18, 18, 18, 18, 18, 18, 18, 18, 18, 18, 18, 18, 18, 18, 18, 18, 18, 18, 18, 18, 18, 18, 18, 18, 18, 18, 18, 18, 18, 18, 18, 18, 18, 23, 23, 33, 33, 33, 18, 18, 18, 18, 18, 18, 35, 18, 7, 7, 7, 7, 18, 18], [18, 18, 18, 18, 18, 18, 18, 18, 20, 20, 15, 20, 15, 15, 15, 15, 18, 18, 18, 6, 6, 6, 6, 6, 6, 6, 6, 6, 6, 6, 18, 18, 18, 18, 18, 18, 18, 19, 33, 33, 33, 33, 33, 33, 18, 18, 18, 18, 18, 18, 20, 33, 33, 33, 33, 18, 18, 18, 18, 18, 18, 35, 7, 7, 7, 7, 7, 7, 7, 7, 7, 7, 18, 18, 18, 18, 18, 20, 15, 15, 15, 15, 15, 18, 18, 18, 6, 6, 6, 6, 6, 6, 6, 6, 6, 6, 18, 18, 22, 18, 18, 19, 33, 33, 33, 33, 33, 33, 33, 33, 33, 33, 18, 18, 18, 18, 18, 18, 18, 18, 18, 18, 18, 18, 18, 18, 18], [18, 18, 18, 18, 18, 18, 18, 18, 18, 18, 18, 18, 18, 18, 18, 18, 18, 18, 18, 18, 18, 18, 18, 18, 18, 18, 18, 18, 18, 18, 18, 18, 18, 18, 18, 18, 18, 18, 18, 18, 18, 18, 18, 18, 18, 18, 18, 18, 18, 18, 18, 18, 18, 18, 18, 18, 18, 18, 18, 18, 18, 0, 26, 26, 26, 18, 18, 18, 18, 18, 18, 18], [18, 18, 18, 18, 18, 18, 11, 9, 9, 9, 10, 10, 18, 18, 18, 19, 33, 33, 33, 33, 33, 33, 33, 33, 33, 18, 18, 18, 18, 18, 18, 18, 18, 18, 18, 18, 18, 18, 18, 18, 18, 18, 18, 18, 18, 18, 18, 18, 18, 18, 18, 18, 18, 18, 18, 18, 18, 18, 18, 11, 9, 9, 9, 9, 10, 19, 19, 33, 33, 33, 33, 33, 33, 18, 18, 18, 18, 18, 18, 18, 18, 18, 18, 18, 18, 18, 18, 18, 18, 18, 18, 18, 18, 18, 18, 18], [18, 18, 18, 18, 18, 18, 18, 18, 18, 18, 18, 18, 18, 11, 9, 9, 9, 10, 10, 10, 41, 19, 33, 33, 33, 33, 33, 33, 33, 33, 33, 33, 18, 18, 18, 18, 18, 18, 18, 18, 18, 18, 18, 18, 18, 18, 18, 18, 18, 18, 18, 18, 18, 18, 18, 18, 18, 18, 18, 18, 18, 18, 18, 18, 18, 18, 18, 18, 11, 9, 9, 9, 10, 10, 10, 10, 10, 10, 10, 10, 10, 10, 10, 10, 23, 33, 33, 7, 19, 33, 33, 33, 33, 33, 33, 33, 33, 33, 33, 33, 18, 18, 18, 18, 18, 18, 18, 18, 18, 18, 18, 18], [18, 18, 18, 18, 18, 18, 18, 18, 18, 18, 18, 18, 18, 18, 18, 18, 18, 18, 18, 18, 18, 18, 18, 18, 18, 11, 9, 9, 9, 10, 10, 41, 10, 41, 41, 41, 41, 41, 19, 33, 33, 33, 33, 33, 33, 18, 18, 18, 18, 18, 18, 18, 18, 18, 18, 18, 18, 18, 18, 18, 18, 18, 18, 18, 18, 18, 18, 18, 18, 18, 18, 18, 18, 18, 18, 18, 18, 18, 18, 10, 11, 9, 9, 9, 10, 10, 7, 7, 7, 7, 19, 33, 33, 33, 33, 33, 33, 33, 33, 18, 33, 33, 18, 18, 18, 18], [18, 18, 18, 18, 18, 18, 18, 18, 18, 18, 18, 18, 18, 18, 18, 18, 18, 18, 18, 18, 18, 18, 18, 18, 18, 18, 18, 18, 18, 18, 18, 18, 18, 18, 18, 11, 9, 9, 9, 10, 10, 10, 10, 41, 41, 41, 41, 41, 7, 19, 33, 33, 33, 33, 33, 33, 33, 33, 18, 18, 18, 18, 18, 18, 18, 18, 18, 18, 18, 18, 18, 18, 18, 18, 18, 18, 18, 18, 18, 18, 18, 18, 18, 18, 18, 18, 18, 18], [18, 18, 18, 18, 10, 41, 41, 41, 41, 10, 41, 18, 18, 18, 18, 18, 18, 18, 18, 18, 18, 18, 18, 18, 18, 18, 18, 18, 18, 18, 18, 18, 18, 18, 18, 18, 18, 18, 18, 18, 18, 18, 18, 18, 18, 18, 18, 18, 18, 18, 18, 18, 18, 18, 18, 18, 18, 18, 18, 18, 18, 18, 18, 18, 18, 18, 18, 18, 18, 18, 10, 10, 10, 44, 44, 8, 18, 18, 18, 18, 18, 18, 18, 0, 26, 26, 18, 18, 18, 18, 18, 18, 18, 18, 18, 18, 18, 27, 18, 18, 18]]\n"
     ]
    }
   ],
   "source": [
    "print(adv_preds)"
   ]
  },
  {
   "cell_type": "code",
   "execution_count": 98,
   "metadata": {},
   "outputs": [
    {
     "data": {
      "text/plain": [
       "{'precision': 0.0,\n",
       " 'recall': 0.0,\n",
       " 'f1': 0.0,\n",
       " 'accuracy': 0.5974025974025974,\n",
       " 'confusion_matrix': array([[ 0,  0,  0,  3,  0,  0],\n",
       "        [ 0,  0,  0,  0,  0,  0],\n",
       "        [ 0,  0,  0,  2,  0,  0],\n",
       "        [ 4,  1, 10, 46,  2,  7],\n",
       "        [ 0,  0,  0,  2,  0,  0],\n",
       "        [ 0,  0,  0,  0,  0,  0]])}"
      ]
     },
     "execution_count": 98,
     "metadata": {},
     "output_type": "execute_result"
    }
   ],
   "source": [
    "aux.compute_metrics(adv_preds, [original_labels])\n"
   ]
  },
  {
   "cell_type": "code",
   "execution_count": 117,
   "metadata": {},
   "outputs": [
    {
     "name": "stdout",
     "output_type": "stream",
     "text": [
      "{'precision': 0.42857142857142855, 'recall': 0.6, 'f1': 0.5, 'accuracy': 0.948051948051948, 'confusion_matrix': array([[ 3,  0,  0,  0,  0,  0],\n",
      "       [ 0,  2,  0,  0,  0,  0],\n",
      "       [ 0,  1, 66,  0,  1,  2],\n",
      "       [ 0,  0,  0,  2,  0,  0],\n",
      "       [ 0,  0,  0,  0,  0,  0],\n",
      "       [ 0,  0,  0,  0,  0,  0]])}\n"
     ]
    }
   ],
   "source": [
    "for i,j in zip(adv_preds[1], dataset[1]['labels']):\n",
    "    if j not in [18, -100] and i == 18:\n",
    "        print(f\"Original: {j}, Predicted: {i}\")\n",
    "        print(\"\\n\")\n",
    "\n",
    "print(aux.compute_metrics([adv_preds[1]], [dataset[1]['labels']]))\n",
    "\n",
    "\n",
    "\n"
   ]
  },
  {
   "cell_type": "code",
   "execution_count": null,
   "metadata": {},
   "outputs": [],
   "source": []
  }
 ],
 "metadata": {
  "kernelspec": {
   "display_name": "Python 3",
   "language": "python",
   "name": "python3"
  },
  "language_info": {
   "codemirror_mode": {
    "name": "ipython",
    "version": 3
   },
   "file_extension": ".py",
   "mimetype": "text/x-python",
   "name": "python",
   "nbconvert_exporter": "python",
   "pygments_lexer": "ipython3",
   "version": "3.10.12"
  }
 },
 "nbformat": 4,
 "nbformat_minor": 2
}
